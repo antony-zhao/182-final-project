{
  "cells": [
    {
      "cell_type": "code",
      "execution_count": 1,
      "metadata": {
        "colab": {
          "base_uri": "https://localhost:8080/"
        },
        "id": "UG8WiswYMNZa",
        "outputId": "b066cc71-b78a-42a3-a72d-23f28d293f7f"
      },
      "outputs": [
        {
          "name": "stdout",
          "output_type": "stream",
          "text": [
            "cuda:1\n"
          ]
        }
      ],
      "source": [
        "import torch\n",
        "from torch import nn\n",
        "import torch.nn.functional as F\n",
        "import numpy as np\n",
        "import matplotlib.pyplot as plt\n",
        "import torchvision\n",
        "import torchvision.transforms as transforms\n",
        "from transformers import GPT2Model, GPT2Config\n",
        "import skimage as sk\n",
        "import random\n",
        "\n",
        "device = 'cuda:1' if torch.cuda.is_available() else 'cpu'\n",
        "print(device)\n",
        "\n",
        "to_numpy = lambda x: x.detach().cpu().numpy()"
      ]
    },
    {
      "cell_type": "code",
      "execution_count": 2,
      "metadata": {},
      "outputs": [
        {
          "name": "stdout",
          "output_type": "stream",
          "text": [
            "Files already downloaded and verified\n"
          ]
        },
        {
          "data": {
            "text/plain": [
              "<matplotlib.image.AxesImage at 0x7faa065efbb0>"
            ]
          },
          "execution_count": 2,
          "metadata": {},
          "output_type": "execute_result"
        },
        {
          "data": {
            "image/png": "[encoded data removed]",
            "text/plain": [
              "<Figure size 640x480 with 1 Axes>"
            ]
          },
          "metadata": {},
          "output_type": "display_data"
        }
      ],
      "source": [
        "cifar = torchvision.datasets.CIFAR10(download=True, root='.')\n",
        "cifar = cifar.data.transpose((0, 3, 1 ,2)).mean(1, keepdims=True)\n",
        "# cifar = (cifar - cifar.mean((0, 2, 3), keepdims=True)) / (cifar.std((0, 2, 3), keepdims=True))\n",
        "plt.imshow(cifar[1, 0], cmap='gray')"
      ]
    },
    {
      "cell_type": "code",
      "execution_count": 3,
      "metadata": {},
      "outputs": [],
      "source": [
        "cifar_small = sk.transform.rescale(cifar, 0.5)\n",
        "cifar_mini = sk.transform.rescale(cifar, 0.25)"
      ]
    },
    {
      "cell_type": "code",
      "execution_count": 4,
      "metadata": {
        "colab": {
          "base_uri": "https://localhost:8080/",
          "height": 466
        },
        "id": "V-tJ18oMnZ4j",
        "outputId": "fe6ba73e-183d-4813-ec75-e609d9768ca7"
      },
      "outputs": [
        {
          "name": "stdout",
          "output_type": "stream",
          "text": [
            "(89400, 1, 16, 16)\n",
            "(89400, 5)\n",
            "[1. 0. 0. 0. 0.]\n"
          ]
        },
        {
          "data": {
            "image/png": "[encoded data removed]",
            "text/plain": [
              "<Figure size 640x480 with 1 Axes>"
            ]
          },
          "metadata": {},
          "output_type": "display_data"
        }
      ],
      "source": [
        "sprites = np.load('sprites.npy')\n",
        "sprites = np.transpose(sprites, (0, 3, 1, 2)).mean(axis=1, keepdims=True)\n",
        "sprite_labels = np.load('sprites_labels.npy')\n",
        "print(sprites.shape)\n",
        "print(sprite_labels.shape)\n",
        "plt.imshow(sprites[0, 0], cmap='gray')\n",
        "print(sprite_labels[0])"
      ]
    },
    {
      "cell_type": "code",
      "execution_count": 5,
      "metadata": {
        "id": "Wg8uyOROQRaY"
      },
      "outputs": [],
      "source": [
        "class PatchEmbed(nn.Module):\n",
        "    def __init__(self, image_size=16, patch_size=2, in_chans=1, embed_dim=256):\n",
        "        super().__init__()\n",
        "        self.patch_size = patch_size\n",
        "        self.proj = nn.Conv2d(in_chans, embed_dim, kernel_size=patch_size, stride=patch_size)\n",
        "        self.grid_h = image_size // patch_size\n",
        "        self.grid_w = image_size // patch_size\n",
        "        self.h_embed = nn.Parameter(torch.randn(1, embed_dim, self.grid_h, 1))\n",
        "        self.w_embed = nn.Parameter(torch.randn(1, embed_dim, 1, self.grid_w))\n",
        "\n",
        "    def forward(self, x):\n",
        "        x = self.proj(x)  # [B, D, H/patch, W/patch]\n",
        "        x = x + self.h_embed + self.w_embed\n",
        "        x = x.flatten(2).transpose(1, 2)  # [B, num_patches, D]\n",
        "        return x"
      ]
    },
    {
      "cell_type": "code",
      "execution_count": 6,
      "metadata": {
        "id": "cZV0ZVTZQzoz"
      },
      "outputs": [],
      "source": [
        "class SimpleViT(nn.Module):\n",
        "    def __init__(self, image_size=16, patch_size=2, embed_dim=256, num_layers=4, nhead=4):\n",
        "        super().__init__()\n",
        "        self.patch_embed = PatchEmbed(image_size=image_size, embed_dim=embed_dim, patch_size=patch_size)\n",
        "        encoder = nn.TransformerEncoderLayer(d_model=embed_dim, nhead=nhead, batch_first=True)\n",
        "        self.transformer = nn.TransformerEncoder(encoder, num_layers=num_layers)\n",
        "\n",
        "    def forward(self, x):\n",
        "        B, T, C, H, W = x.shape\n",
        "        x = x.view(B * T, C, H, W)\n",
        "        patches = self.patch_embed(x)  # [B*T, P, D]\n",
        "        # patches = patches.view(B, T, -1, patches.shape[-1])  # [B, T, P, D]\n",
        "        # patches = patches.flatten(1, 2)  # [B, T*P, D]\n",
        "        embeddings = self.transformer(patches)[:, -1, :]\n",
        "        embeddings = embeddings.view(B, T, -1)\n",
        "        return embeddings\n",
        "\n",
        "class MiniResnet(nn.Module):\n",
        "    def __init__(self, image_size=16, embed_dim=256, num_layers=8):\n",
        "        super().__init__()\n",
        "        self.input_conv = nn.Conv2d(1, 32, 3, 1, 1)\n",
        "        self.convs = nn.ModuleList()\n",
        "        for _ in range(num_layers):\n",
        "            self.convs.append(nn.Conv2d(32, 32, 3, 1, 1))\n",
        "        self.output = nn.Linear(image_size**2 *32, embed_dim)\n",
        "    \n",
        "    def forward(self, x):\n",
        "        x = F.relu(self.input_conv(x))\n",
        "        for layer in self.convs:\n",
        "            x = F.relu(layer(x)) + x\n",
        "        x = x.flatten(1)\n",
        "        x = self.output(x)\n",
        "        return x\n"
      ]
    },
    {
      "cell_type": "code",
      "execution_count": null,
      "metadata": {},
      "outputs": [],
      "source": [
        "class SimpleCNN(nn.Module):\n",
        "    def __init__(self, image_size=16, embed_dim=1, num_convs=1, num_channels=1, patch_size=2):\n",
        "        # Let's just do x convs followed by a single linear layer\n",
        "        super().__init__()\n",
        "        self.convs = nn.ModuleList()\n",
        "        self.convs.append(nn.Conv2d(1, num_channels, kernel_size=patch_size, stride=patch_size, bias=False))\n",
        "        for i in range(num_convs - 1):\n",
        "            self.convs.append(nn.Conv2d(num_channels, num_channels, kernel_size=patch_size, padding='same', bias=False))\n",
        "        self.conv_size = num_channels * (image_size * image_size) // (patch_size * patch_size)\n",
        "        self.linear = nn.Linear(self.conv_size, embed_dim, bias=False)\n",
        "        self._initialize_weights()\n",
        "\n",
        "    def forward(self, x):\n",
        "        for conv in self.convs:\n",
        "            x = F.relu(conv(x))\n",
        "        x = x.flatten(1)\n",
        "        x = self.linear(x)\n",
        "        return x\n",
        "    \n",
        "    def _initialize_weights(self):\n",
        "        layers = [m for m in self.modules() if isinstance(m, (nn.Linear, nn.Conv2d))]\n",
        "        for i, m in enumerate(layers):\n",
        "            if isinstance(m, (nn.Conv2d, nn.Linear)):\n",
        "                nn.init.normal_(m.weight)\n",
        "\n",
        "class SimpleMLP(nn.Module):\n",
        "    def __init__(self, image_size=16, embed_dim=1, hidden_dim=100, num_hidden=0):\n",
        "        super().__init__()\n",
        "        self.input_size = image_size ** 2\n",
        "        self.hidden_dim = hidden_dim\n",
        "        self.layers = nn.ModuleList()\n",
        "        self.layers.append(nn.Linear(self.input_size, hidden_dim, bias=False))\n",
        "        for _ in range(num_hidden):\n",
        "            self.layers.append(nn.Linear(hidden_dim, hidden_dim, bias=False))\n",
        "        self.output_layer = nn.Linear(hidden_dim, embed_dim, bias=False)\n",
        "        self._initialize_weights()\n",
        "        \n",
        "    def forward(self, x):\n",
        "        x = x.flatten(1)\n",
        "        for layer in self.layers:\n",
        "            x = F.relu(layer(x))\n",
        "        return self.output_layer(x)\n",
        "        \n",
        "    def _initialize_weights(self):\n",
        "        layers = [m for m in self.modules() if isinstance(m, (nn.Linear, nn.Conv2d))]\n",
        "        for i, m in enumerate(layers):\n",
        "            if isinstance(m, (nn.Conv2d, nn.Linear)):\n",
        "                if i < len(layers) - 1:\n",
        "                    nn.init.normal_(m.weight)\n",
        "                else:\n",
        "                    nn.init.normal_(m.weight, std=2/self.hidden_dim)\n",
        "            "
      ]
    },
    {
      "cell_type": "code",
      "execution_count": 8,
      "metadata": {
        "id": "VEirYoYZQVAE"
      },
      "outputs": [],
      "source": [
        "class VisionICLTransformer(nn.Module):\n",
        "    def __init__(self, val_dim=1, embed_dim=256, num_heads=8, num_layers=12, vit_heads=2, vit_layers=8,\n",
        "                 image_size=16, patch_size=2, max_seq_len=128):\n",
        "        # max_seq_len corresponds to 2k, so k x_k samples and k f(x_k), and then one more for x_query\n",
        "        super().__init__()\n",
        "\n",
        "        self.grid_h = image_size // patch_size\n",
        "        self.grid_w = image_size // patch_size\n",
        "        self.num_patches = self.grid_h * self.grid_w\n",
        "\n",
        "        self.time_embed = nn.Parameter(torch.randn(1, max_seq_len * 2, embed_dim))\n",
        "\n",
        "        self.val_dim = val_dim\n",
        "        self.value_proj = nn.Linear(val_dim, embed_dim)\n",
        "\n",
        "        self.vit = SimpleViT(image_size, patch_size, embed_dim, vit_layers, vit_heads)\n",
        "        self.cnn = MiniResnet(image_size, embed_dim=embed_dim)\n",
        "        # decoder_layer = nn.TransformerDecoderLayer(d_model=embed_dim, nhead=num_heads, batch_first=True)\n",
        "        # self.transformer = nn.TransformerDecoder(decoder_layer, num_layers=num_layers)\n",
        "        config = GPT2Config(\n",
        "            n_positions=2 * max_seq_len,\n",
        "            n_embd=embed_dim,\n",
        "            n_layer=num_layers,\n",
        "            n_head=num_heads,\n",
        "            resid_pdrop=0.0,\n",
        "            embd_pdrop=0.0,\n",
        "            attn_pdrop=0.0,\n",
        "            use_cache=False,\n",
        "        )\n",
        "        self.transformer = GPT2Model(config)\n",
        "\n",
        "        self.fc_out = nn.Linear(embed_dim, val_dim)\n",
        "\n",
        "    def forward(self, images, values):\n",
        "        B, T, C, H, W = images.shape\n",
        "        B, T, _ = values.shape\n",
        "        # images = images.reshape(-1, *images.shape[2:])\n",
        "        img_embeddings = self.vit(images) #self.cnn(images)\n",
        "        # img_embeddings = img_embeddings.reshape(B, T, -1)\n",
        "        # img_embeddings = self.vit(images)\n",
        "\n",
        "        inds = torch.arange(T).to(device)\n",
        "\n",
        "        val_embeds = self.value_proj(values)\n",
        "\n",
        "        embeddings = self.interleave(img_embeddings, val_embeds)\n",
        "        # embeddings = embeddings + self.time_embed[:, :2 * T]\n",
        "\n",
        "        # mask = nn.Transformer.generate_square_subsequent_mask(2 * T).to(embeddings.device)\n",
        "        # memory = torch.zeros(B, 1, embeddings.shape[-1]).to(embeddings.device)\n",
        "        # x = self.transformer(tgt=embeddings, memory=memory, tgt_mask=mask) \n",
        "\n",
        "        # return self.fc_out(x[:, ::2])\n",
        "        x = self.transformer(inputs_embeds=embeddings).last_hidden_state\n",
        "        predictions = self.fc_out(x)\n",
        "\n",
        "        return predictions[:, ::2, 0][:, inds]\n",
        "    \n",
        "    def interleave(self, xs, ys):\n",
        "        B, T, D = xs.shape\n",
        "        stacked = torch.stack((xs, ys), dim=2)  # [B, T, 2, D]\n",
        "        interleaved = stacked.view(B, 2 * T, D)\n",
        "        return interleaved"
      ]
    },
    {
      "cell_type": "markdown",
      "metadata": {
        "id": "DxDplJ5qfRij"
      },
      "source": [
        "Actual Toy Problem"
      ]
    },
    {
      "cell_type": "code",
      "execution_count": 9,
      "metadata": {
        "id": "y5SUpgjFfQtx"
      },
      "outputs": [],
      "source": [
        "def sample_image_set(image_set, b, n, d=None):\n",
        "    indices = torch.randint(0, image_set.shape[0], (b * n,))\n",
        "    images = image_set[indices].reshape(b, n, *image_set.shape[1:])\n",
        "    shape = images.shape\n",
        "    images = (images - image_set.mean()) / (image_set.std() + 1e-8)\n",
        "    images = torch.tensor(images).float().to(device)\n",
        "    # images = images.reshape(b, n, 1, -1)\n",
        "    if d is not None:\n",
        "        images[:, :, :, d:] = 0\n",
        "        images[:, :, :, :, d:] = 0\n",
        "    # images = images.reshape(shape)\n",
        "    return images\n",
        "\n",
        "# def sample_sprites(b, n):\n",
        "#     indices = torch.randint(0, sprites.shape[0], (b, n))\n",
        "#     images = torch.tensor(sprites[indices]).float().to(device)\n",
        "#     return images\n",
        "\n",
        "# def sample_cifar(b, n, d):\n",
        "#     indices = torch.randint(0, cifar.shape[0], (b, n))\n",
        "#     images = torch.tensor(cifar[indices]).float().to(device)\n",
        "#     images[:, :, :, d:] = 0\n",
        "#     images[:, :, :, :, d:] = 0\n",
        "#     return images\n",
        "\n",
        "def sample_noise(b, n, d, d_max=16):\n",
        "    noise = torch.randn((b, n, 1, d_max, d_max))\n",
        "    noise[:, :, :, d:] = 0\n",
        "    noise[:, :, :, :, d:] = 0\n",
        "    return noise.to(device)\n",
        "\n",
        "def ensemble_predict(models, images):\n",
        "    predictions = []\n",
        "    for i in range(len(models)):\n",
        "        predictions.append(models[i](images[i]))\n",
        "        \n",
        "    return torch.concat(predictions)\n",
        "\n",
        "def anneal_lr(optim, lr, update, num_updates, transition_step=1000):\n",
        "    update -= 1\n",
        "    if update <= transition_step:\n",
        "        new_lr = lr * (0.5 ** (update / transition_step))\n",
        "    else:\n",
        "        frac = 1 - (update - transition_step) / (num_updates - transition_step)\n",
        "        new_lr = max(0, 0.5 * lr * frac) # max probably unneccesary but better than having a negative\n",
        "    optim.param_groups[0][\"lr\"] = new_lr"
      ]
    },
    {
      "cell_type": "code",
      "execution_count": 10,
      "metadata": {},
      "outputs": [
        {
          "data": {
            "text/plain": [
              "<matplotlib.image.AxesImage at 0x7faa0650f100>"
            ]
          },
          "execution_count": 10,
          "metadata": {},
          "output_type": "execute_result"
        },
        {
          "data": {
            "image/png": "[encoded data removed]",
            "text/plain": [
              "<Figure size 640x480 with 1 Axes>"
            ]
          },
          "metadata": {},
          "output_type": "display_data"
        }
      ],
      "source": [
        "plt.imshow(to_numpy(sample_image_set(cifar_small, 1, 4, 32))[0, 0, 0], cmap='gray')"
      ]
    },
    {
      "cell_type": "code",
      "execution_count": 11,
      "metadata": {},
      "outputs": [
        {
          "name": "stdout",
          "output_type": "stream",
          "text": [
            "tensor([0.0331, 0.1322, 0.2975, 0.5289, 0.8264, 1.1901, 1.6198, 2.1157, 2.6777,\n",
            "        3.3058, 4.0000], device='cuda:1')\n",
            "epoch: 100, 39.40476703643799, 2.5312382698059084, 2.167236089706421, 3.1420974731445312\n",
            "epoch: 200, 40.34879093170166, 2.825751003623009, 2.0911715030670166, 3.8295319080352783\n",
            "epoch: 300, 40.3372142791748, 1.9635031700134278, 2.6392621994018555, 3.5663251876831055\n",
            "epoch: 400, 27.18043384552002, 1.8523598492145539, 1.5120189189910889, 2.6573357582092285\n",
            "epoch: 500, 19.437535190582274, 0.8235744506120681, 2.0480055809020996, 2.872068405151367\n",
            "epoch: 600, 29.00683813095093, 2.389714163541794, 1.5841865539550781, 2.9720542430877686\n",
            "epoch: 700, 24.073626136779787, 1.296381449699402, 2.5000391006469727, 3.498293399810791\n",
            "epoch: 800, 27.983927536010743, 1.815904575586319, 2.1111745834350586, 3.2101423740386963\n",
            "epoch: 900, 26.581917572021485, 1.4900855898857117, 1.5132806301116943, 3.2443015575408936\n",
            "epoch: 1000, 32.91649675369263, 1.8942463159561158, 2.1310231685638428, 4.4308977127075195\n",
            "epoch: 1100, 21.39835891723633, 1.1168723165988923, 2.0672168731689453, 3.216263771057129\n",
            "epoch: 1200, 22.522524547576904, 1.103508386015892, 2.585463047027588, 4.215152263641357\n",
            "epoch: 1300, 32.61649494171142, 1.491113543510437, 1.8747806549072266, 3.116828441619873\n",
            "epoch: 1400, 26.550376319885252, 1.4845150113105774, 1.7991228103637695, 2.9090001583099365\n",
            "epoch: 1500, 24.996537685394287, 1.2681065618991851, 1.702701210975647, 3.248983383178711\n",
            "epoch: 1600, 21.191586017608643, 1.3068940222263337, 1.9579490423202515, 2.957159996032715\n",
            "epoch: 1700, 21.066428852081298, 1.0426756501197816, 2.4298996925354004, 3.7750535011291504\n",
            "epoch: 1800, 19.230264472961426, 1.2371141970157624, 2.3588414192199707, 4.033695220947266\n",
            "epoch: 1900, 30.52222900390625, 2.138160890340805, 2.9217753410339355, 4.29041862487793\n",
            "epoch: 2000, 20.91369981765747, 1.039781418442726, 2.2582907676696777, 3.0124335289001465\n",
            "epoch: 2100, 29.05655469894409, 1.6599665880203247, 1.9725970029830933, 2.745210647583008\n",
            "epoch: 2200, 20.123567962646483, 1.1472793102264405, 1.8674917221069336, 3.0218143463134766\n",
            "epoch: 2300, 25.855824756622315, 2.029696649312973, 1.8620555400848389, 3.0283122062683105\n"
          ]
        },
        {
          "ename": "KeyboardInterrupt",
          "evalue": "",
          "output_type": "error",
          "traceback": [
            "\u001b[0;31m---------------------------------------------------------------------------\u001b[0m",
            "\u001b[0;31mKeyboardInterrupt\u001b[0m                         Traceback (most recent call last)",
            "Cell \u001b[0;32mIn[11], line 33\u001b[0m\n\u001b[1;32m     31\u001b[0m     \u001b[38;5;28;01melif\u001b[39;00m np\u001b[38;5;241m.\u001b[39mmean(final_losses[\u001b[38;5;241m-\u001b[39m\u001b[38;5;241m10\u001b[39m:]) \u001b[38;5;241m<\u001b[39m stop_on:\n\u001b[1;32m     32\u001b[0m         \u001b[38;5;28;01mbreak\u001b[39;00m\n\u001b[0;32m---> 33\u001b[0m models \u001b[38;5;241m=\u001b[39m [SimpleCNN(image_size)\u001b[38;5;241m.\u001b[39mto(device) \u001b[38;5;28;01mfor\u001b[39;00m _ \u001b[38;5;129;01min\u001b[39;00m \u001b[38;5;28mrange\u001b[39m(b)]\n\u001b[1;32m     34\u001b[0m images \u001b[38;5;241m=\u001b[39m sample_image_set(cifar_mini, b, n, d)\n\u001b[1;32m     35\u001b[0m \u001b[38;5;66;03m# images = sample_noise(b, n, d, image_size)\u001b[39;00m\n",
            "Cell \u001b[0;32mIn[11], line 33\u001b[0m, in \u001b[0;36m<listcomp>\u001b[0;34m(.0)\u001b[0m\n\u001b[1;32m     31\u001b[0m     \u001b[38;5;28;01melif\u001b[39;00m np\u001b[38;5;241m.\u001b[39mmean(final_losses[\u001b[38;5;241m-\u001b[39m\u001b[38;5;241m10\u001b[39m:]) \u001b[38;5;241m<\u001b[39m stop_on:\n\u001b[1;32m     32\u001b[0m         \u001b[38;5;28;01mbreak\u001b[39;00m\n\u001b[0;32m---> 33\u001b[0m models \u001b[38;5;241m=\u001b[39m [\u001b[43mSimpleCNN\u001b[49m\u001b[43m(\u001b[49m\u001b[43mimage_size\u001b[49m\u001b[43m)\u001b[49m\u001b[38;5;241;43m.\u001b[39;49m\u001b[43mto\u001b[49m\u001b[43m(\u001b[49m\u001b[43mdevice\u001b[49m\u001b[43m)\u001b[49m \u001b[38;5;28;01mfor\u001b[39;00m _ \u001b[38;5;129;01min\u001b[39;00m \u001b[38;5;28mrange\u001b[39m(b)]\n\u001b[1;32m     34\u001b[0m images \u001b[38;5;241m=\u001b[39m sample_image_set(cifar_mini, b, n, d)\n\u001b[1;32m     35\u001b[0m \u001b[38;5;66;03m# images = sample_noise(b, n, d, image_size)\u001b[39;00m\n",
            "File \u001b[0;32m~/anaconda3/envs/cs182/lib/python3.10/site-packages/torch/nn/modules/module.py:1173\u001b[0m, in \u001b[0;36mModule.to\u001b[0;34m(self, *args, **kwargs)\u001b[0m\n\u001b[1;32m   1170\u001b[0m         \u001b[38;5;28;01melse\u001b[39;00m:\n\u001b[1;32m   1171\u001b[0m             \u001b[38;5;28;01mraise\u001b[39;00m\n\u001b[0;32m-> 1173\u001b[0m \u001b[38;5;28;01mreturn\u001b[39;00m \u001b[38;5;28;43mself\u001b[39;49m\u001b[38;5;241;43m.\u001b[39;49m\u001b[43m_apply\u001b[49m\u001b[43m(\u001b[49m\u001b[43mconvert\u001b[49m\u001b[43m)\u001b[49m\n",
            "File \u001b[0;32m~/anaconda3/envs/cs182/lib/python3.10/site-packages/torch/nn/modules/module.py:779\u001b[0m, in \u001b[0;36mModule._apply\u001b[0;34m(self, fn, recurse)\u001b[0m\n\u001b[1;32m    777\u001b[0m \u001b[38;5;28;01mif\u001b[39;00m recurse:\n\u001b[1;32m    778\u001b[0m     \u001b[38;5;28;01mfor\u001b[39;00m module \u001b[38;5;129;01min\u001b[39;00m \u001b[38;5;28mself\u001b[39m\u001b[38;5;241m.\u001b[39mchildren():\n\u001b[0;32m--> 779\u001b[0m         \u001b[43mmodule\u001b[49m\u001b[38;5;241;43m.\u001b[39;49m\u001b[43m_apply\u001b[49m\u001b[43m(\u001b[49m\u001b[43mfn\u001b[49m\u001b[43m)\u001b[49m\n\u001b[1;32m    781\u001b[0m \u001b[38;5;28;01mdef\u001b[39;00m \u001b[38;5;21mcompute_should_use_set_data\u001b[39m(tensor, tensor_applied):\n\u001b[1;32m    782\u001b[0m     \u001b[38;5;28;01mif\u001b[39;00m torch\u001b[38;5;241m.\u001b[39m_has_compatible_shallow_copy_type(tensor, tensor_applied):\n\u001b[1;32m    783\u001b[0m         \u001b[38;5;66;03m# If the new tensor has compatible tensor type as the existing tensor,\u001b[39;00m\n\u001b[1;32m    784\u001b[0m         \u001b[38;5;66;03m# the current behavior is to change the tensor in-place using `.data =`,\u001b[39;00m\n\u001b[0;32m   (...)\u001b[0m\n\u001b[1;32m    789\u001b[0m         \u001b[38;5;66;03m# global flag to let the user control whether they want the future\u001b[39;00m\n\u001b[1;32m    790\u001b[0m         \u001b[38;5;66;03m# behavior of overwriting the existing tensor or not.\u001b[39;00m\n",
            "File \u001b[0;32m~/anaconda3/envs/cs182/lib/python3.10/site-packages/torch/nn/modules/module.py:779\u001b[0m, in \u001b[0;36mModule._apply\u001b[0;34m(self, fn, recurse)\u001b[0m\n\u001b[1;32m    777\u001b[0m \u001b[38;5;28;01mif\u001b[39;00m recurse:\n\u001b[1;32m    778\u001b[0m     \u001b[38;5;28;01mfor\u001b[39;00m module \u001b[38;5;129;01min\u001b[39;00m \u001b[38;5;28mself\u001b[39m\u001b[38;5;241m.\u001b[39mchildren():\n\u001b[0;32m--> 779\u001b[0m         \u001b[43mmodule\u001b[49m\u001b[38;5;241;43m.\u001b[39;49m\u001b[43m_apply\u001b[49m\u001b[43m(\u001b[49m\u001b[43mfn\u001b[49m\u001b[43m)\u001b[49m\n\u001b[1;32m    781\u001b[0m \u001b[38;5;28;01mdef\u001b[39;00m \u001b[38;5;21mcompute_should_use_set_data\u001b[39m(tensor, tensor_applied):\n\u001b[1;32m    782\u001b[0m     \u001b[38;5;28;01mif\u001b[39;00m torch\u001b[38;5;241m.\u001b[39m_has_compatible_shallow_copy_type(tensor, tensor_applied):\n\u001b[1;32m    783\u001b[0m         \u001b[38;5;66;03m# If the new tensor has compatible tensor type as the existing tensor,\u001b[39;00m\n\u001b[1;32m    784\u001b[0m         \u001b[38;5;66;03m# the current behavior is to change the tensor in-place using `.data =`,\u001b[39;00m\n\u001b[0;32m   (...)\u001b[0m\n\u001b[1;32m    789\u001b[0m         \u001b[38;5;66;03m# global flag to let the user control whether they want the future\u001b[39;00m\n\u001b[1;32m    790\u001b[0m         \u001b[38;5;66;03m# behavior of overwriting the existing tensor or not.\u001b[39;00m\n",
            "File \u001b[0;32m~/anaconda3/envs/cs182/lib/python3.10/site-packages/torch/nn/modules/module.py:804\u001b[0m, in \u001b[0;36mModule._apply\u001b[0;34m(self, fn, recurse)\u001b[0m\n\u001b[1;32m    800\u001b[0m \u001b[38;5;66;03m# Tensors stored in modules are graph leaves, and we don't want to\u001b[39;00m\n\u001b[1;32m    801\u001b[0m \u001b[38;5;66;03m# track autograd history of `param_applied`, so we have to use\u001b[39;00m\n\u001b[1;32m    802\u001b[0m \u001b[38;5;66;03m# `with torch.no_grad():`\u001b[39;00m\n\u001b[1;32m    803\u001b[0m \u001b[38;5;28;01mwith\u001b[39;00m torch\u001b[38;5;241m.\u001b[39mno_grad():\n\u001b[0;32m--> 804\u001b[0m     param_applied \u001b[38;5;241m=\u001b[39m \u001b[43mfn\u001b[49m\u001b[43m(\u001b[49m\u001b[43mparam\u001b[49m\u001b[43m)\u001b[49m\n\u001b[1;32m    805\u001b[0m p_should_use_set_data \u001b[38;5;241m=\u001b[39m compute_should_use_set_data(param, param_applied)\n\u001b[1;32m    807\u001b[0m \u001b[38;5;66;03m# subclasses may have multiple child tensors so we need to use swap_tensors\u001b[39;00m\n",
            "File \u001b[0;32m~/anaconda3/envs/cs182/lib/python3.10/site-packages/torch/nn/modules/module.py:1159\u001b[0m, in \u001b[0;36mModule.to.<locals>.convert\u001b[0;34m(t)\u001b[0m\n\u001b[1;32m   1152\u001b[0m     \u001b[38;5;28;01mif\u001b[39;00m convert_to_format \u001b[38;5;129;01mis\u001b[39;00m \u001b[38;5;129;01mnot\u001b[39;00m \u001b[38;5;28;01mNone\u001b[39;00m \u001b[38;5;129;01mand\u001b[39;00m t\u001b[38;5;241m.\u001b[39mdim() \u001b[38;5;129;01min\u001b[39;00m (\u001b[38;5;241m4\u001b[39m, \u001b[38;5;241m5\u001b[39m):\n\u001b[1;32m   1153\u001b[0m         \u001b[38;5;28;01mreturn\u001b[39;00m t\u001b[38;5;241m.\u001b[39mto(\n\u001b[1;32m   1154\u001b[0m             device,\n\u001b[1;32m   1155\u001b[0m             dtype \u001b[38;5;28;01mif\u001b[39;00m t\u001b[38;5;241m.\u001b[39mis_floating_point() \u001b[38;5;129;01mor\u001b[39;00m t\u001b[38;5;241m.\u001b[39mis_complex() \u001b[38;5;28;01melse\u001b[39;00m \u001b[38;5;28;01mNone\u001b[39;00m,\n\u001b[1;32m   1156\u001b[0m             non_blocking,\n\u001b[1;32m   1157\u001b[0m             memory_format\u001b[38;5;241m=\u001b[39mconvert_to_format,\n\u001b[1;32m   1158\u001b[0m         )\n\u001b[0;32m-> 1159\u001b[0m     \u001b[38;5;28;01mreturn\u001b[39;00m \u001b[43mt\u001b[49m\u001b[38;5;241;43m.\u001b[39;49m\u001b[43mto\u001b[49m\u001b[43m(\u001b[49m\n\u001b[1;32m   1160\u001b[0m \u001b[43m        \u001b[49m\u001b[43mdevice\u001b[49m\u001b[43m,\u001b[49m\n\u001b[1;32m   1161\u001b[0m \u001b[43m        \u001b[49m\u001b[43mdtype\u001b[49m\u001b[43m \u001b[49m\u001b[38;5;28;43;01mif\u001b[39;49;00m\u001b[43m \u001b[49m\u001b[43mt\u001b[49m\u001b[38;5;241;43m.\u001b[39;49m\u001b[43mis_floating_point\u001b[49m\u001b[43m(\u001b[49m\u001b[43m)\u001b[49m\u001b[43m \u001b[49m\u001b[38;5;129;43;01mor\u001b[39;49;00m\u001b[43m \u001b[49m\u001b[43mt\u001b[49m\u001b[38;5;241;43m.\u001b[39;49m\u001b[43mis_complex\u001b[49m\u001b[43m(\u001b[49m\u001b[43m)\u001b[49m\u001b[43m \u001b[49m\u001b[38;5;28;43;01melse\u001b[39;49;00m\u001b[43m \u001b[49m\u001b[38;5;28;43;01mNone\u001b[39;49;00m\u001b[43m,\u001b[49m\n\u001b[1;32m   1162\u001b[0m \u001b[43m        \u001b[49m\u001b[43mnon_blocking\u001b[49m\u001b[43m,\u001b[49m\n\u001b[1;32m   1163\u001b[0m \u001b[43m    \u001b[49m\u001b[43m)\u001b[49m\n\u001b[1;32m   1164\u001b[0m \u001b[38;5;28;01mexcept\u001b[39;00m \u001b[38;5;167;01mNotImplementedError\u001b[39;00m \u001b[38;5;28;01mas\u001b[39;00m e:\n\u001b[1;32m   1165\u001b[0m     \u001b[38;5;28;01mif\u001b[39;00m \u001b[38;5;28mstr\u001b[39m(e) \u001b[38;5;241m==\u001b[39m \u001b[38;5;124m\"\u001b[39m\u001b[38;5;124mCannot copy out of meta tensor; no data!\u001b[39m\u001b[38;5;124m\"\u001b[39m:\n",
            "\u001b[0;31mKeyboardInterrupt\u001b[0m: "
          ]
        }
      ],
      "source": [
        "total_updates = 300000\n",
        "increase_after = 5000\n",
        "b = 64\n",
        "d = 2\n",
        "k = 5\n",
        "n = d * k + 1 # might need to lower this back to 64 for colab\n",
        "e = b\n",
        "lr = 1e-5\n",
        "image_size = 8\n",
        "stop_on = 0.01\n",
        "current_i = 0\n",
        "weighting = ((torch.arange(1, n+1) * 2 / n) ** 2).to(device)\n",
        "print(weighting)\n",
        "\n",
        "losses = []\n",
        "final_losses = []\n",
        "large_transformer = VisionICLTransformer(image_size=image_size, patch_size=4, vit_layers=12).to(device)\n",
        "optim = torch.optim.AdamW(large_transformer.parameters(), lr)\n",
        "for i in range(1, total_updates + 1):\n",
        "    # anneal_lr(optim, lr, i, total_updates, transition_step=20000)\n",
        "    if i % 100 == 0:\n",
        "        print(f'epoch: {i}, {np.mean(losses[-10:])}, {np.mean(final_losses[-10:])}, {f_xquery.norm(dim=-1).mean().item()}, {true_f_xquery.norm(dim=-1).mean().item()}')\n",
        "    if i - current_i == increase_after:\n",
        "        if d < image_size:\n",
        "            d += 1\n",
        "            n = d * k + 1\n",
        "            increase_after += 0\n",
        "            current_i = i\n",
        "            weighting = ((torch.arange(n) * 2 / n) ** 2).to(device)\n",
        "            print(f'increasing difficulty to d={d}, n={n}')\n",
        "        elif np.mean(final_losses[-10:]) < stop_on:\n",
        "            break\n",
        "    models = [SimpleCNN(image_size).to(device) for _ in range(b)]\n",
        "    images = sample_image_set(cifar_mini, b, n, d)\n",
        "    # images = sample_noise(b, n, d, image_size)\n",
        "    embeddings = ensemble_predict(models, images)\n",
        "    true_f_xquery= embeddings = embeddings.reshape(b, n, -1)\n",
        "    f_xquery = large_transformer(images, embeddings)\n",
        "    true_f_xquery = true_f_xquery.squeeze(-1)\n",
        "    loss = (weighting * (f_xquery - true_f_xquery) ** 2).sum(1).mean() # * weighting.view(1, -1)\n",
        "    final_loss = F.mse_loss(f_xquery[:, -1], true_f_xquery[:, -1])\n",
        "    final_losses.append(final_loss.item())\n",
        "    losses.append(loss.item())\n",
        "    optim.zero_grad()\n",
        "    loss.backward()\n",
        "    optim.step()"
      ]
    },
    {
      "cell_type": "code",
      "execution_count": null,
      "metadata": {},
      "outputs": [],
      "source": [
        "# torch.save(large_transformer.state_dict(), 'exp3_model.pt')"
      ]
    },
    {
      "cell_type": "code",
      "execution_count": null,
      "metadata": {},
      "outputs": [
        {
          "name": "stdout",
          "output_type": "stream",
          "text": [
            "tensor([-3.3670, -0.8374, -0.8020, -0.7125, -1.1386, -0.4960, -1.2444, -0.3060,\n",
            "        -0.7515, -1.7429, -1.7482, -0.8571, -1.4543, -1.9456, -2.1560, -0.7443,\n",
            "        -3.6499, -1.4974, -0.4456, -0.9363, -0.6172, -0.6431, -2.5569, -2.7063,\n",
            "        -0.7595, -1.6962, -0.4311, -0.5113, -1.6055, -2.1963, -1.6276, -3.0955,\n",
            "        -1.9674, -0.6198, -1.9956, -1.6917, -0.5312, -0.5139, -1.5179, -1.5603,\n",
            "        -0.8287, -2.3736, -0.3921, -0.6882, -1.7527, -0.9424, -0.9154, -1.5507,\n",
            "        -0.7746, -0.2443, -1.1702, -0.2301, -2.4996, -0.4357, -0.8577, -0.1203,\n",
            "        -0.8054, -3.6366, -2.0074, -1.1432, -1.0902, -1.6596, -0.8031, -0.5571],\n",
            "       device='cuda:1', grad_fn=<SelectBackward0>)\n",
            "tensor([ 6.1204e-02, -1.5064e+00, -1.9267e+00, -6.5524e-01,  0.0000e+00,\n",
            "         5.2506e-01,  5.6935e-01, -4.8448e+00, -2.1673e+00, -4.0671e+00,\n",
            "        -2.7940e+00,  0.0000e+00, -3.0368e+00,  0.0000e+00,  0.0000e+00,\n",
            "        -3.6930e-01, -5.5602e+00, -2.8050e+00, -2.4113e+00,  9.9732e-02,\n",
            "        -4.7724e+00, -5.9436e+00,  0.0000e+00, -2.8654e+00,  6.0373e-02,\n",
            "        -5.7066e+00, -8.0199e-02, -1.3081e+00, -5.1920e+00, -5.3778e+00,\n",
            "        -1.1221e+00, -2.8447e+00, -3.2383e+00, -5.5432e-01,  0.0000e+00,\n",
            "         0.0000e+00, -3.5569e-01, -2.3354e-02,  0.0000e+00,  2.9984e-01,\n",
            "         0.0000e+00, -7.9036e-01,  2.3154e-01, -2.7951e-03, -3.4337e+00,\n",
            "        -3.5278e+00,  1.8155e-01,  0.0000e+00, -4.6767e+00, -7.7342e-01,\n",
            "        -1.1534e-01,  4.9893e-02, -5.3244e+00,  4.7594e-01,  0.0000e+00,\n",
            "         2.3154e-01,  0.0000e+00, -4.3491e+00,  0.0000e+00, -2.7051e+00,\n",
            "        -5.3908e-01,  0.0000e+00,  0.0000e+00, -1.1459e+00], device='cuda:1',\n",
            "       grad_fn=<SelectBackward0>)\n"
          ]
        }
      ],
      "source": [
        "images = sample_image_set(cifar_mini, b, n, d)\n",
        "testcnn = SimpleCNN(image_size).to(device)\n",
        "embeddings = testcnn(images.reshape(b * n, 1, image_size, image_size))\n",
        "true_f_xquery = embeddings = embeddings.reshape(b, n, -1)\n",
        "f_xquery = large_transformer(images, embeddings)\n",
        "true_f_xquery = true_f_xquery.squeeze(-1)\n",
        "F.mse_loss(f_xquery[:, -1], true_f_xquery[:, -1])\n",
        "print(f_xquery[:, -1])\n",
        "print(true_f_xquery[:, -1])"
      ]
    },
    {
      "cell_type": "code",
      "execution_count": null,
      "metadata": {
        "id": "yeFOKRnskFn8"
      },
      "outputs": [
        {
          "data": {
            "image/png": "[encoded data removed]",
            "text/plain": [
              "<Figure size 640x480 with 1 Axes>"
            ]
          },
          "metadata": {},
          "output_type": "display_data"
        },
        {
          "data": {
            "image/png": "[encoded data removed]",
            "text/plain": [
              "<Figure size 640x480 with 1 Axes>"
            ]
          },
          "metadata": {},
          "output_type": "display_data"
        }
      ],
      "source": [
        "plt.plot(losses)\n",
        "plt.xlabel('epoch')\n",
        "plt.ylabel('loss')\n",
        "plt.savefig('exp3_loss.png')\n",
        "plt.show()\n",
        "plt.plot(final_losses)\n",
        "plt.xlabel('epoch')\n",
        "plt.ylabel('query loss')\n",
        "plt.savefig('exp3_query_loss.png')"
      ]
    },
    {
      "cell_type": "code",
      "execution_count": null,
      "metadata": {
        "id": "Sxgx0BahkHGH"
      },
      "outputs": [],
      "source": []
    },
    {
      "cell_type": "code",
      "execution_count": null,
      "metadata": {
        "id": "NRg6e60ylG-i"
      },
      "outputs": [],
      "source": []
    }
  ],
  "metadata": {
    "accelerator": "GPU",
    "colab": {
      "gpuType": "T4",
      "provenance": []
    },
    "kernelspec": {
      "display_name": "cs182",
      "language": "python",
      "name": "python3"
    },
    "language_info": {
      "codemirror_mode": {
        "name": "ipython",
        "version": 3
      },
      "file_extension": ".py",
      "mimetype": "text/x-python",
      "name": "python",
      "nbconvert_exporter": "python",
      "pygments_lexer": "ipython3",
      "version": "3.10.16"
    }
  },
  "nbformat": 4,
  "nbformat_minor": 0
}
