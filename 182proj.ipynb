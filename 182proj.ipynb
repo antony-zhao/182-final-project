{
  "cells": [
    {
      "cell_type": "code",
      "execution_count": 21,
      "metadata": {
        "colab": {
          "base_uri": "https://localhost:8080/"
        },
        "id": "UG8WiswYMNZa",
        "outputId": "b066cc71-b78a-42a3-a72d-23f28d293f7f"
      },
      "outputs": [
        {
          "name": "stdout",
          "output_type": "stream",
          "text": [
            "cuda:1\n"
          ]
        }
      ],
      "source": [
        "import torch\n",
        "from torch import nn\n",
        "import torch.nn.functional as F\n",
        "import numpy as np\n",
        "import matplotlib.pyplot as plt\n",
        "import torchvision\n",
        "import torchvision.transforms as transforms\n",
        "import skimage as sk\n",
        "import random\n",
        "\n",
        "device = 'cuda:1' if torch.cuda.is_available() else 'cpu'\n",
        "print(device)\n",
        "\n",
        "to_numpy = lambda x: x.detach().cpu().numpy()"
      ]
    },
    {
      "cell_type": "code",
      "execution_count": 22,
      "metadata": {},
      "outputs": [
        {
          "name": "stdout",
          "output_type": "stream",
          "text": [
            "Files already downloaded and verified\n"
          ]
        },
        {
          "data": {
            "text/plain": [
              "<matplotlib.image.AxesImage at 0x7fd145665f00>"
            ]
          },
          "execution_count": 22,
          "metadata": {},
          "output_type": "execute_result"
        },
        {
          "data": {
            "image/png": "[encoded data removed]",
            "text/plain": [
              "<Figure size 640x480 with 1 Axes>"
            ]
          },
          "metadata": {},
          "output_type": "display_data"
        }
      ],
      "source": [
        "cifar = torchvision.datasets.CIFAR10(download=True, root='.')\n",
        "cifar = cifar.data.transpose((0, 3, 1 ,2)).mean(1, keepdims=True)\n",
        "# cifar = (cifar - cifar.mean((0, 2, 3), keepdims=True)) / (cifar.std((0, 2, 3), keepdims=True))\n",
        "plt.imshow(cifar[1, 0], cmap='gray')"
      ]
    },
    {
      "cell_type": "code",
      "execution_count": 23,
      "metadata": {},
      "outputs": [],
      "source": [
        "cifar_small = sk.transform.rescale(cifar, 0.5)\n",
        "cifar_mini = sk.transform.rescale(cifar, 0.25)"
      ]
    },
    {
      "cell_type": "code",
      "execution_count": 24,
      "metadata": {
        "colab": {
          "base_uri": "https://localhost:8080/",
          "height": 466
        },
        "id": "V-tJ18oMnZ4j",
        "outputId": "fe6ba73e-183d-4813-ec75-e609d9768ca7"
      },
      "outputs": [
        {
          "name": "stdout",
          "output_type": "stream",
          "text": [
            "(89400, 1, 16, 16)\n",
            "(89400, 5)\n",
            "[1. 0. 0. 0. 0.]\n"
          ]
        },
        {
          "data": {
            "image/png": "[encoded data removed]",
            "text/plain": [
              "<Figure size 640x480 with 1 Axes>"
            ]
          },
          "metadata": {},
          "output_type": "display_data"
        }
      ],
      "source": [
        "sprites = np.load('sprites.npy')\n",
        "sprites = np.transpose(sprites, (0, 3, 1, 2)).mean(axis=1, keepdims=True)\n",
        "sprite_labels = np.load('sprites_labels.npy')\n",
        "print(sprites.shape)\n",
        "print(sprite_labels.shape)\n",
        "plt.imshow(sprites[0, 0], cmap='gray')\n",
        "print(sprite_labels[0])"
      ]
    },
    {
      "cell_type": "code",
      "execution_count": 25,
      "metadata": {
        "id": "Wg8uyOROQRaY"
      },
      "outputs": [],
      "source": [
        "class PatchEmbed(nn.Module):\n",
        "    def __init__(self, image_size=16, patch_size=2, in_chans=1, embed_dim=256):\n",
        "        super().__init__()\n",
        "        self.patch_size = patch_size\n",
        "        self.proj = nn.Conv2d(in_chans, embed_dim, kernel_size=patch_size, stride=patch_size)\n",
        "        self.grid_h = image_size // patch_size\n",
        "        self.grid_w = image_size // patch_size\n",
        "        self.h_embed = nn.Parameter(torch.randn(1, embed_dim, self.grid_h, 1))\n",
        "        self.w_embed = nn.Parameter(torch.randn(1, embed_dim, 1, self.grid_w))\n",
        "\n",
        "    def forward(self, x):\n",
        "        x = self.proj(x)  # [B, D, H/patch, W/patch]\n",
        "        x = x + self.h_embed + self.w_embed\n",
        "        x = x.flatten(2).transpose(1, 2)  # [B, num_patches, D]\n",
        "        return x"
      ]
    },
    {
      "cell_type": "code",
      "execution_count": 28,
      "metadata": {
        "id": "cZV0ZVTZQzoz"
      },
      "outputs": [],
      "source": [
        "class SimpleViT(nn.Module):\n",
        "    def __init__(self, image_size=16, patch_size=2, embed_dim=256, num_layers=4, nhead=4):\n",
        "        super().__init__()\n",
        "        self.patch_embed = PatchEmbed(image_size=image_size, embed_dim=embed_dim, patch_size=patch_size)\n",
        "        encoder = nn.TransformerEncoderLayer(d_model=embed_dim, nhead=nhead, batch_first=True)\n",
        "        self.transformer = nn.TransformerEncoder(encoder, num_layers=num_layers)\n",
        "\n",
        "    def forward(self, x):\n",
        "        B, T, C, H, W = x.shape\n",
        "        x = x.view(B * T, C, H, W)\n",
        "        patches = self.patch_embed(x)  # [B*T, P, D]\n",
        "        # patches = patches.view(B, T, -1, patches.shape[-1])  # [B, T, P, D]\n",
        "        # patches = patches.flatten(1, 2)  # [B, T*P, D]\n",
        "        embeddings = self.transformer(patches)[:, -1, :]\n",
        "        embeddings = embeddings.view(B, T, -1)\n",
        "        return embeddings"
      ]
    },
    {
      "cell_type": "code",
      "execution_count": null,
      "metadata": {
        "id": "VEirYoYZQVAE"
      },
      "outputs": [],
      "source": [
        "class VisionICLTransformer(nn.Module):\n",
        "    def __init__(self, val_dim=1, embed_dim=256, num_heads=8, num_layers=12, vit_heads=2, vit_layers=4,\n",
        "                 image_size=16, patch_size=4, max_seq_len=128):\n",
        "        # max_seq_len corresponds to 2k, so k x_k samples and k f(x_k), and then one more for x_query\n",
        "        super().__init__()\n",
        "\n",
        "        self.grid_h = image_size // patch_size\n",
        "        self.grid_w = image_size // patch_size\n",
        "        self.num_patches = self.grid_h * self.grid_w\n",
        "\n",
        "        # Learnable 3D positional embeddings: row, col, and time\n",
        "        self.time_embed = nn.Parameter(torch.randn(1, max_seq_len * 2, embed_dim))\n",
        "\n",
        "        # Value sequence positional embeddings\n",
        "        self.val_dim = val_dim\n",
        "        self.value_proj = nn.Linear(val_dim, embed_dim)\n",
        "\n",
        "        # Transformer\n",
        "        # decoder_layer = nn.TransformerDecoderLayer(d_model=embed_dim, nhead=num_heads, batch_first=True)\n",
        "        self.vit = SimpleViT(image_size, patch_size, embed_dim, vit_layers, vit_heads)\n",
        "        # self.transformer = nn.Transformer(d_model=embed_dim, nhead=num_heads, num_decoder_layers=num_layers//2, num_encoder_layers=num_layers//2, batch_first=True) #nn.TransformerDecoder(decoder_layer, num_layers=num_layers)\n",
        "        decoder_layer = nn.TransformerDecoderLayer(d_model=embed_dim, nhead=num_heads, batch_first=True)\n",
        "        self.transformer = nn.TransformerDecoder(decoder_layer, num_layers=num_layers)\n",
        "\n",
        "\n",
        "        # Final output head — a learned token or pooled projection\n",
        "        self.fc_out = nn.Linear(embed_dim, val_dim)\n",
        "\n",
        "    def forward(self, images, values):\n",
        "        img_embeddings = self.vit(images)\n",
        "        B, T, D1 = img_embeddings.shape\n",
        "        B, T, D2 = values.shape\n",
        "\n",
        "        P = self.num_patches\n",
        "\n",
        "        # time = self.time_embed[:, :2*T + 1:2, :]\n",
        "        # img_embeddings = img_embeddings + time  # [B, T*P, D]\n",
        "\n",
        "        val_embeds = self.value_proj(values)\n",
        "        # val_pos = self.time_embed[:, 1:2*T:2, :]\n",
        "        # val_embeds = val_embeds + val_pos\n",
        "        embeddings = self.interleave(img_embeddings, val_embeds)\n",
        "        embeddings = embeddings + self.time_embed[:, :2 * T]\n",
        "\n",
        "        mask = nn.Transformer.generate_square_subsequent_mask(2 * T).to(embeddings.device)\n",
        "        memory = torch.zeros(B, 1, embeddings.shape[-1]).to(embeddings.device)\n",
        "        x = self.transformer(tgt=embeddings, memory=memory, tgt_mask=mask)  # [B, seq_len, D]\n",
        "\n",
        "        # === [4] Pooling Output ===\n",
        "        # x_last = x[:, ::, :]  # [B, D]\n",
        "        return self.fc_out(x[:, ::2])  # [B, D]\n",
        "    \n",
        "    def interleave(self, xs, ys):\n",
        "        B, T, D = xs.shape\n",
        "        stacked = torch.stack((xs, ys), dim=2)  # [B, T, 2, D]\n",
        "        interleaved = stacked.view(B, 2 * T, D)\n",
        "        return interleaved"
      ]
    },
    {
      "cell_type": "code",
      "execution_count": 30,
      "metadata": {
        "id": "yWVRGO86SHt-"
      },
      "outputs": [],
      "source": [
        "class SimpleCNN(nn.Module):\n",
        "    def __init__(self, image_size=16, embed_dim=1, num_convs=1, num_channels=1, patch_size=2):\n",
        "        # Let's just do x convs followed by a single linear layer\n",
        "        super().__init__()\n",
        "        self.convs = nn.ModuleList()\n",
        "        for i in range(num_convs):\n",
        "            # if i == 0:\n",
        "            self.convs.append(nn.Conv2d(1, num_channels, kernel_size=patch_size, stride=patch_size, bias=False))\n",
        "            # else:\n",
        "            #     self.convs.append(nn.Conv2d(num_channels, num_channels, kernel_size=3, padding=1, bias=False))\n",
        "        self.linear = nn.Linear(num_channels * (image_size * image_size) // (patch_size * patch_size), embed_dim, bias=False)\n",
        "\n",
        "    def forward(self, x):\n",
        "        for conv in self.convs:\n",
        "            x = F.relu(conv(x))\n",
        "        x = x.flatten(1)\n",
        "        x = self.linear(x)\n",
        "        return x"
      ]
    },
    {
      "cell_type": "code",
      "execution_count": 31,
      "metadata": {
        "id": "72vwj2SubS6u"
      },
      "outputs": [],
      "source": [
        "# Just to make sure that all the shapes and whatnot work out\n",
        "# large_transformer = VisionICLTransformer().to(device)\n",
        "# optim = torch.optim.AdamW(large_transformer.parameters(), lr=5e-4)\n",
        "# test_images = torch.randn(4, 10, 1, 16, 16).to(device)\n",
        "# test_fx = torch.rand(4, 10, large_transformer.val_dim).to(device)\n",
        "# print(test_fx.shape)\n",
        "# test_y = large_transformer(test_images, test_fx)\n",
        "# print(test_y.shape)\n",
        "\n",
        "# del test_images, test_fx"
      ]
    },
    {
      "cell_type": "markdown",
      "metadata": {
        "id": "DxDplJ5qfRij"
      },
      "source": [
        "Actual Toy Problem"
      ]
    },
    {
      "cell_type": "code",
      "execution_count": 32,
      "metadata": {
        "id": "y5SUpgjFfQtx"
      },
      "outputs": [],
      "source": [
        "def sample_image_set(image_set, b, n, d=None):\n",
        "    indices = torch.randint(0, image_set.shape[0], (b * n,))\n",
        "    images = torch.tensor(image_set[indices].reshape(b, n, *image_set.shape[1:])).float().to(device)\n",
        "    if d is not None:\n",
        "        images[:, :, :, d:] = 0\n",
        "        images[:, :, :, :, d:] = 0\n",
        "    return images\n",
        "\n",
        "# def sample_sprites(b, n):\n",
        "#     indices = torch.randint(0, sprites.shape[0], (b, n))\n",
        "#     images = torch.tensor(sprites[indices]).float().to(device)\n",
        "#     return images\n",
        "\n",
        "# def sample_cifar(b, n, d):\n",
        "#     indices = torch.randint(0, cifar.shape[0], (b, n))\n",
        "#     images = torch.tensor(cifar[indices]).float().to(device)\n",
        "#     images[:, :, :, d:] = 0\n",
        "#     images[:, :, :, :, d:] = 0\n",
        "#     return images\n",
        "\n",
        "def sample_noise(b, n, d, d_max=16):\n",
        "    noise = torch.rand((b, n, 1, d_max, d_max)) * 255\n",
        "    noise[:, :, :, d:] = 0\n",
        "    noise[:, :, :, :, d:] = 0\n",
        "    return noise.to(device)\n",
        "\n",
        "def ensemble_predict(models, images):\n",
        "    ensemble_size = len(models)\n",
        "    batch_dim = images.shape[0]\n",
        "    step = batch_dim // ensemble_size\n",
        "    ind = 0\n",
        "    i = 0\n",
        "    predictions = []\n",
        "    while ind < batch_dim:\n",
        "        predictions.append(models[i](images[ind:min(batch_dim, ind+step)]))\n",
        "        ind += step\n",
        "        i += 1\n",
        "        \n",
        "    return torch.concat(predictions)\n",
        "\n",
        "def anneal_lr(optim, lr, update, num_updates, transition_step=1000):\n",
        "    update -= 1\n",
        "    if update <= transition_step:\n",
        "        new_lr = lr * (0.5 ** (update / transition_step))\n",
        "    else:\n",
        "        frac = 1 - (update - transition_step) / (num_updates - transition_step)\n",
        "        new_lr = max(0, 0.5 * lr * frac) # max probably unneccesary but better than having a negative\n",
        "    optim.param_groups[0][\"lr\"] = new_lr"
      ]
    },
    {
      "cell_type": "code",
      "execution_count": 33,
      "metadata": {},
      "outputs": [
        {
          "data": {
            "text/plain": [
              "<matplotlib.image.AxesImage at 0x7fd1456dc610>"
            ]
          },
          "execution_count": 33,
          "metadata": {},
          "output_type": "execute_result"
        },
        {
          "data": {
            "image/png": "[encoded data removed]",
            "text/plain": [
              "<Figure size 640x480 with 1 Axes>"
            ]
          },
          "metadata": {},
          "output_type": "display_data"
        }
      ],
      "source": [
        "plt.imshow(to_numpy(sample_image_set(cifar_small, 1, 4))[0, 0, 0], cmap='gray')"
      ]
    },
    {
      "cell_type": "code",
      "execution_count": 34,
      "metadata": {
        "colab": {
          "base_uri": "https://localhost:8080/"
        },
        "id": "2_15MFhxfqVb",
        "outputId": "da28b9a8-25e1-4bc9-ebf2-69c394728729"
      },
      "outputs": [],
      "source": [
        "# model = SimpleCNN().to(device)\n",
        "# b = 128\n",
        "# n = 128\n",
        "# e = 4\n",
        "# images = sample_images(b, n)\n",
        "# temp_images = images.reshape(-1, 1, 16, 16)\n",
        "# embeddings = model(temp_images)\n",
        "# embeddings = embeddings.reshape(b, n, -1)\n",
        "# true_f_xquery = embeddings\n",
        "# print(embeddings.shape)\n",
        "# print(true_f_xquery.shape)"
      ]
    },
    {
      "cell_type": "code",
      "execution_count": 35,
      "metadata": {
        "colab": {
          "base_uri": "https://localhost:8080/"
        },
        "id": "VQTlVT1lf62k",
        "outputId": "158ca2e8-6749-458a-afae-42ce9f376eb2"
      },
      "outputs": [],
      "source": [
        "# images = torch.as_tensor(images).float()\n",
        "# f_xquery = large_transformer(images, embeddings)\n",
        "# print(f_xquery.shape)"
      ]
    },
    {
      "cell_type": "code",
      "execution_count": 36,
      "metadata": {
        "colab": {
          "base_uri": "https://localhost:8080/"
        },
        "id": "NctDM0FchY18",
        "outputId": "672210d6-4c2a-4d92-f765-dba72c28dfdb"
      },
      "outputs": [],
      "source": [
        "# loss = F.mse_loss(f_xquery, true_f_xquery)\n",
        "# print(loss)\n",
        "# optim.zero_grad()\n",
        "# loss.backward()\n",
        "# optim.step()"
      ]
    },
    {
      "cell_type": "code",
      "execution_count": null,
      "metadata": {
        "colab": {
          "base_uri": "https://localhost:8080/"
        },
        "id": "hZ13XQPPjZ3s",
        "outputId": "442d1b5e-a364-40d0-e02c-d77adf9273b9"
      },
      "outputs": [
        {
          "name": "stdout",
          "output_type": "stream",
          "text": [
            "12 performance high enough\n",
            "doubling models to 2, (d=2, n=17)\n"
          ]
        }
      ],
      "source": [
        "total_updates = 500000\n",
        "b = 128\n",
        "d = 2\n",
        "n = d * 8 + 1 # might need to lower this back to 64 for colab\n",
        "e = 1\n",
        "lr = 1e-5\n",
        "last_i = 0\n",
        "image_size = 8\n",
        "weighting = ((2 * torch.arange(n).to(device) + 1) / n) ** 2\n",
        "\n",
        "losses = []\n",
        "final_losses = []\n",
        "first_losses = []\n",
        "all_models = [SimpleCNN(image_size).to(device) for _ in range(e)]\n",
        "models = random.sample(all_models, e)\n",
        "large_transformer = VisionICLTransformer(image_size=image_size, patch_size=2).to(device)\n",
        "optim = torch.optim.AdamW(large_transformer.parameters(), lr)\n",
        "for i in range(1, total_updates + 1):\n",
        "    anneal_lr(optim, lr, i, total_updates)\n",
        "    if i % 50 == 0:\n",
        "        print(f'epoch: {i}, {losses[-1]}, {final_losses[-1]}, {first_losses[-1]}')\n",
        "    if len(final_losses) > 10 and np.mean(final_losses[-10:]) < 4 and i - last_i > 10:\n",
        "        last_i = i\n",
        "        print(i, 'performance high enough')\n",
        "        if len(all_models) < b * 2:\n",
        "            e = min(e * 2, b//2)\n",
        "            all_models += [SimpleCNN(image_size).to(device) for _ in range(len(all_models))]\n",
        "            print(f'doubling models to {len(all_models)}, (d={d}, n={n})')\n",
        "        else:\n",
        "            if d < image_size:\n",
        "                e = 4\n",
        "                all_models = [SimpleCNN(image_size).to(device) for _ in range(e)]\n",
        "                d += 1\n",
        "                n = d * 5 + 1\n",
        "                print(f'increasing difficulty to d={d}, n={n}')\n",
        "                weighting = ((2 * torch.arange(n).to(device) + 1) / n) ** 2\n",
        "            else:\n",
        "                break\n",
        "    models = random.sample(all_models, e)\n",
        "    images = sample_image_set(cifar_mini, b, n, d)\n",
        "    temp_images = images.reshape(-1, 1, image_size, image_size)\n",
        "    embeddings = ensemble_predict(models, temp_images)\n",
        "    true_f_xquery= embeddings = embeddings.reshape(b, n, -1)\n",
        "    f_xquery = large_transformer(images, embeddings)\n",
        "    loss = (((f_xquery - true_f_xquery) ** 2) * weighting.view(1, -1)).sum(1).mean()\n",
        "    first_loss = F.mse_loss(f_xquery[:, 0], true_f_xquery[:, 0])\n",
        "    final_loss = F.mse_loss(f_xquery[:, -1], true_f_xquery[:, -1])\n",
        "    final_losses.append(final_loss.item())\n",
        "    losses.append(loss.item())\n",
        "    first_losses.append(first_loss.item())\n",
        "    optim.zero_grad()\n",
        "    loss.backward()\n",
        "    optim.step()"
      ]
    },
    {
      "cell_type": "code",
      "execution_count": null,
      "metadata": {},
      "outputs": [
        {
          "name": "stdout",
          "output_type": "stream",
          "text": [
            "tensor([[ 8.0154e-02],\n",
            "        [ 1.1878e-01],\n",
            "        [ 8.3330e-02],\n",
            "        [ 3.8510e-01],\n",
            "        [ 2.6456e-01],\n",
            "        [-4.7002e-02],\n",
            "        [-4.2146e-02],\n",
            "        [ 6.7189e-02],\n",
            "        [ 1.7773e-01],\n",
            "        [-4.1973e-02],\n",
            "        [-5.2373e-02],\n",
            "        [ 2.8758e-01],\n",
            "        [ 4.1514e-01],\n",
            "        [ 5.8379e-02],\n",
            "        [ 1.8973e-01],\n",
            "        [ 2.1448e-01],\n",
            "        [ 5.5444e-02],\n",
            "        [ 8.7649e-02],\n",
            "        [-1.7506e-01],\n",
            "        [ 1.2606e-01],\n",
            "        [ 1.3448e-01],\n",
            "        [ 7.2692e-02],\n",
            "        [ 6.6069e-02],\n",
            "        [ 1.5618e-01],\n",
            "        [ 1.4423e-01],\n",
            "        [ 1.0529e-01],\n",
            "        [ 9.5377e-02],\n",
            "        [-1.7394e-02],\n",
            "        [ 1.9750e-01],\n",
            "        [-6.9421e-02],\n",
            "        [ 3.0620e-01],\n",
            "        [ 2.3045e-01],\n",
            "        [ 2.7362e-04],\n",
            "        [-6.0880e-02],\n",
            "        [ 2.1332e-01],\n",
            "        [ 1.2661e-01],\n",
            "        [ 1.4258e-01],\n",
            "        [ 1.2737e-01],\n",
            "        [ 2.9798e-01],\n",
            "        [ 1.1878e-01],\n",
            "        [ 6.1643e-02],\n",
            "        [-1.5376e-01],\n",
            "        [ 1.2249e-01],\n",
            "        [ 1.8289e-01],\n",
            "        [ 3.0619e-01],\n",
            "        [ 3.0113e-01],\n",
            "        [ 1.0177e-01],\n",
            "        [ 1.1932e-01],\n",
            "        [ 1.5278e-01],\n",
            "        [ 1.8569e-03],\n",
            "        [ 1.5735e-01],\n",
            "        [ 1.2781e-01],\n",
            "        [ 2.9852e-01],\n",
            "        [-7.1739e-03],\n",
            "        [ 6.5404e-02],\n",
            "        [-5.5314e-02],\n",
            "        [ 1.7202e-01],\n",
            "        [-5.4735e-02],\n",
            "        [ 1.7632e-01],\n",
            "        [ 1.3439e-01],\n",
            "        [ 1.6289e-01],\n",
            "        [-1.0938e-02],\n",
            "        [ 1.2366e-01],\n",
            "        [ 2.3431e-01],\n",
            "        [ 2.4526e-01],\n",
            "        [ 2.6224e-01],\n",
            "        [ 1.2900e-01],\n",
            "        [-1.5067e-01],\n",
            "        [ 1.2753e-01],\n",
            "        [ 2.9027e-01],\n",
            "        [-3.5850e-02],\n",
            "        [-3.2176e-02],\n",
            "        [ 7.5329e-02],\n",
            "        [-1.2095e-01],\n",
            "        [-2.5672e-02],\n",
            "        [ 5.8644e-02],\n",
            "        [ 2.0324e-01],\n",
            "        [ 2.7442e-01],\n",
            "        [ 1.3703e-01],\n",
            "        [ 1.5392e-01],\n",
            "        [-1.8611e-01],\n",
            "        [ 1.3797e-01],\n",
            "        [ 3.1818e-01],\n",
            "        [ 9.5683e-02],\n",
            "        [ 1.4766e-01],\n",
            "        [ 2.8688e-01],\n",
            "        [ 1.3962e-01],\n",
            "        [-2.1522e-01],\n",
            "        [ 1.5873e-01],\n",
            "        [ 3.3168e-01],\n",
            "        [-8.9011e-03],\n",
            "        [ 1.7611e-01],\n",
            "        [ 1.6009e-01],\n",
            "        [ 1.7277e-01],\n",
            "        [ 8.5474e-02],\n",
            "        [-1.3897e-01],\n",
            "        [ 2.9522e-01],\n",
            "        [ 2.2926e-01],\n",
            "        [-4.5749e-02],\n",
            "        [-1.9061e-02],\n",
            "        [ 2.4077e-02],\n",
            "        [ 4.9079e-02],\n",
            "        [ 3.0883e-02],\n",
            "        [ 2.2706e-01],\n",
            "        [ 1.2866e-01],\n",
            "        [ 1.9727e-01],\n",
            "        [ 1.1937e-02],\n",
            "        [ 7.6232e-02],\n",
            "        [ 2.4144e-02],\n",
            "        [-2.5777e-02],\n",
            "        [ 6.0679e-02],\n",
            "        [ 8.8974e-02],\n",
            "        [ 8.6238e-02],\n",
            "        [ 2.0625e-01],\n",
            "        [ 3.1208e-01],\n",
            "        [ 3.1574e-01],\n",
            "        [ 3.4256e-01],\n",
            "        [ 8.2836e-02],\n",
            "        [ 6.1118e-02],\n",
            "        [ 1.4543e-02],\n",
            "        [ 6.9969e-02],\n",
            "        [ 3.0094e-01],\n",
            "        [ 2.9039e-01],\n",
            "        [ 1.0323e-01],\n",
            "        [ 2.5916e-01],\n",
            "        [ 2.3733e-01],\n",
            "        [ 1.5159e-01],\n",
            "        [ 7.9957e-02]], device='cuda:1', grad_fn=<SelectBackward0>)\n",
            "tensor([[-21.8589],\n",
            "        [-17.6637],\n",
            "        [-21.2174],\n",
            "        [-13.8798],\n",
            "        [-27.1914],\n",
            "        [-28.4010],\n",
            "        [-22.6910],\n",
            "        [-26.8705],\n",
            "        [-17.1450],\n",
            "        [-26.1851],\n",
            "        [-24.2374],\n",
            "        [-26.8278],\n",
            "        [-24.7560],\n",
            "        [-23.1418],\n",
            "        [-30.4364],\n",
            "        [-21.4762],\n",
            "        [-21.7716],\n",
            "        [-29.3255],\n",
            "        [-12.1840],\n",
            "        [-30.4819],\n",
            "        [-13.5548],\n",
            "        [-21.0683],\n",
            "        [-28.7859],\n",
            "        [-19.6622],\n",
            "        [-19.9609],\n",
            "        [-25.6753],\n",
            "        [-33.1339],\n",
            "        [-14.9703],\n",
            "        [-18.3380],\n",
            "        [-29.2492],\n",
            "        [-23.6842],\n",
            "        [-24.4807],\n",
            "        [-21.6991],\n",
            "        [-29.1615],\n",
            "        [-36.2479],\n",
            "        [-29.8983],\n",
            "        [-28.9512],\n",
            "        [-21.2060],\n",
            "        [-21.0811],\n",
            "        [-22.6339],\n",
            "        [-22.0592],\n",
            "        [-21.0883],\n",
            "        [-26.8932],\n",
            "        [-36.0512],\n",
            "        [-19.2219],\n",
            "        [-17.2368],\n",
            "        [-24.6768],\n",
            "        [-36.9731],\n",
            "        [-24.8643],\n",
            "        [-22.5659],\n",
            "        [-27.4665],\n",
            "        [-21.3676],\n",
            "        [-21.0503],\n",
            "        [-19.2683],\n",
            "        [-28.5486],\n",
            "        [-25.6285],\n",
            "        [-20.6173],\n",
            "        [-31.8228],\n",
            "        [-19.5001],\n",
            "        [-17.9705],\n",
            "        [-20.2298],\n",
            "        [-16.4740],\n",
            "        [-16.7752],\n",
            "        [-23.8319],\n",
            "        [-20.9346],\n",
            "        [-21.7205],\n",
            "        [-26.9973],\n",
            "        [-25.9167],\n",
            "        [-18.8839],\n",
            "        [-18.0045],\n",
            "        [-26.4430],\n",
            "        [-24.4645],\n",
            "        [-23.1026],\n",
            "        [-18.6046],\n",
            "        [-24.9740],\n",
            "        [-29.1575],\n",
            "        [-27.4932],\n",
            "        [-22.8830],\n",
            "        [-26.1088],\n",
            "        [-33.6769],\n",
            "        [-21.3221],\n",
            "        [-26.8705],\n",
            "        [-24.0307],\n",
            "        [-21.7016],\n",
            "        [-30.4339],\n",
            "        [-27.6212],\n",
            "        [-28.8259],\n",
            "        [-32.0846],\n",
            "        [-24.6999],\n",
            "        [-21.0706],\n",
            "        [-19.3025],\n",
            "        [-31.8990],\n",
            "        [-15.8679],\n",
            "        [-21.7798],\n",
            "        [-18.9865],\n",
            "        [-20.5255],\n",
            "        [-34.5898],\n",
            "        [-29.6325],\n",
            "        [-22.6845],\n",
            "        [-28.1293],\n",
            "        [-21.1307],\n",
            "        [-30.6076],\n",
            "        [-29.8754],\n",
            "        [-19.3385],\n",
            "        [-21.0367],\n",
            "        [-26.1313],\n",
            "        [-19.4639],\n",
            "        [-15.5639],\n",
            "        [-19.3462],\n",
            "        [-11.2775],\n",
            "        [-29.0584],\n",
            "        [-32.4451],\n",
            "        [-24.1850],\n",
            "        [-27.9567],\n",
            "        [-26.0727],\n",
            "        [-19.7734],\n",
            "        [-25.8986],\n",
            "        [-14.3255],\n",
            "        [-12.4241],\n",
            "        [-21.4587],\n",
            "        [-25.1614],\n",
            "        [-14.0262],\n",
            "        [-34.3976],\n",
            "        [-14.8655],\n",
            "        [-30.9089],\n",
            "        [-17.9429],\n",
            "        [-33.1452],\n",
            "        [-27.6950]], device='cuda:1', grad_fn=<SelectBackward0>)\n"
          ]
        }
      ],
      "source": [
        "images = sample_image_set(cifar_mini, b, n+1, d)\n",
        "testcnn = SimpleCNN(image_size).to(device)\n",
        "embeddings = testcnn(images.reshape(-1, 1, image_size, image_size))\n",
        "true_f_xquery= embeddings = embeddings.reshape(b, n+1, -1)\n",
        "f_xquery = large_transformer(images, embeddings)\n",
        "F.mse_loss(f_xquery[:, -1], true_f_xquery[:, -1])\n",
        "print(f_xquery[:, -1])\n",
        "print(true_f_xquery[:, -1])"
      ]
    },
    {
      "cell_type": "code",
      "execution_count": null,
      "metadata": {},
      "outputs": [],
      "source": [
        "# total_updates = 50000\n",
        "# b = 64\n",
        "# d = 4\n",
        "# n = d * 2 + 1 # might need to lower this back to 64 for colab\n",
        "# e = 1\n",
        "# lr = 4e-4\n",
        "# last_i = 0\n",
        "# image_size = 32\n",
        "\n",
        "# losses = []\n",
        "# final_losses = []\n",
        "# all_models = [SimpleCNN(image_size=image_size).to(device) for _ in range(e)]\n",
        "# models = random.sample(all_models, e)\n",
        "# large_transformer = VisionICLTransformer(image_size=image_size).to(device)\n",
        "# optim = torch.optim.AdamW(large_transformer.parameters(), lr)\n",
        "# for i in range(1, total_updates + 1):\n",
        "#     anneal_lr(optim, lr, i, total_updates)\n",
        "#     if i % 50 == 0:\n",
        "#         print(f'epoch: {i}, {losses[-1]}, {final_losses[-1]}')\n",
        "#     if len(final_losses) > 10 and np.mean(final_losses[-10:]) < 0.05 and i - last_i > 10:\n",
        "#         last_i = i\n",
        "#         print(i, 'performance high enough')\n",
        "#         if len(all_models) < b * 2:\n",
        "#             print('doubling models')\n",
        "#             e = min(e * 2, b//2)\n",
        "#             all_models += [SimpleCNN(image_size=image_size).to(device) for _ in range(len(all_models))]\n",
        "#         else:\n",
        "#             if d < image_size:\n",
        "#                 all_models = [SimpleCNN(image_size=image_size).to(device)]\n",
        "#                 e = 1\n",
        "#                 d += 1\n",
        "#                 n = d * 3 + 1\n",
        "#                 print(f'increasing difficulty to d={d}, n={n}')\n",
        "#             else:\n",
        "#                 break\n",
        "#     models = random.sample(all_models, e)\n",
        "#     images = sample_cifar(b, n, d)\n",
        "#     temp_images = images.reshape(-1, 1, image_size, image_size)\n",
        "#     embeddings = ensemble_predict(models, temp_images)\n",
        "#     true_f_xquery= embeddings = embeddings.reshape(b, n, -1)\n",
        "#     f_xquery = large_transformer(images, embeddings)\n",
        "#     loss = F.mse_loss(f_xquery, true_f_xquery)\n",
        "#     final_loss = F.mse_loss(f_xquery[:, -1], true_f_xquery[:, -1])\n",
        "#     final_losses.append(final_loss.item())\n",
        "#     losses.append(loss.item())\n",
        "#     optim.zero_grad()\n",
        "#     loss.backward()\n",
        "#     optim.step()"
      ]
    },
    {
      "cell_type": "code",
      "execution_count": null,
      "metadata": {
        "id": "yeFOKRnskFn8"
      },
      "outputs": [
        {
          "data": {
            "image/png": "[encoded data removed]",
            "text/plain": [
              "<Figure size 640x480 with 1 Axes>"
            ]
          },
          "metadata": {},
          "output_type": "display_data"
        },
        {
          "data": {
            "image/png": "[encoded data removed]",
            "text/plain": [
              "<Figure size 640x480 with 1 Axes>"
            ]
          },
          "metadata": {},
          "output_type": "display_data"
        }
      ],
      "source": [
        "plt.plot(losses)\n",
        "plt.xlabel('epoch')\n",
        "plt.ylabel('loss')\n",
        "plt.savefig('exp1_loss.png')\n",
        "plt.show()\n",
        "plt.plot(final_losses)\n",
        "plt.xlabel('epoch')\n",
        "plt.ylabel('query loss')\n",
        "plt.savefig('exp1_query_loss.png')"
      ]
    },
    {
      "cell_type": "code",
      "execution_count": null,
      "metadata": {
        "id": "Sxgx0BahkHGH"
      },
      "outputs": [],
      "source": []
    },
    {
      "cell_type": "code",
      "execution_count": null,
      "metadata": {
        "id": "NRg6e60ylG-i"
      },
      "outputs": [],
      "source": []
    }
  ],
  "metadata": {
    "accelerator": "GPU",
    "colab": {
      "gpuType": "T4",
      "provenance": []
    },
    "kernelspec": {
      "display_name": "cs182",
      "language": "python",
      "name": "python3"
    },
    "language_info": {
      "codemirror_mode": {
        "name": "ipython",
        "version": 3
      },
      "file_extension": ".py",
      "mimetype": "text/x-python",
      "name": "python",
      "nbconvert_exporter": "python",
      "pygments_lexer": "ipython3",
      "version": "3.10.16"
    }
  },
  "nbformat": 4,
  "nbformat_minor": 0
}
