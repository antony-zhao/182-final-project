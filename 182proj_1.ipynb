{
  "cells": [
    {
      "cell_type": "code",
      "execution_count": 1,
      "metadata": {
        "colab": {
          "base_uri": "https://localhost:8080/"
        },
        "id": "UG8WiswYMNZa",
        "outputId": "b066cc71-b78a-42a3-a72d-23f28d293f7f"
      },
      "outputs": [
        {
          "name": "stdout",
          "output_type": "stream",
          "text": [
            "cuda:1\n"
          ]
        }
      ],
      "source": [
        "import torch\n",
        "from torch import nn\n",
        "import torch.nn.functional as F\n",
        "import numpy as np\n",
        "import matplotlib.pyplot as plt\n",
        "import torchvision\n",
        "import torchvision.transforms as transforms\n",
        "from transformers import GPT2Model, GPT2Config\n",
        "import skimage as sk\n",
        "import random\n",
        "\n",
        "device = 'cuda:1' if torch.cuda.is_available() else 'cpu'\n",
        "print(device)\n",
        "\n",
        "to_numpy = lambda x: x.detach().cpu().numpy()"
      ]
    },
    {
      "cell_type": "code",
      "execution_count": 2,
      "metadata": {},
      "outputs": [
        {
          "name": "stdout",
          "output_type": "stream",
          "text": [
            "Files already downloaded and verified\n"
          ]
        },
        {
          "data": {
            "text/plain": [
              "<matplotlib.image.AxesImage at 0x7f068e3c3940>"
            ]
          },
          "execution_count": 2,
          "metadata": {},
          "output_type": "execute_result"
        },
        {
          "data": {
            "image/png": "[encoded data removed]",
            "text/plain": [
              "<Figure size 640x480 with 1 Axes>"
            ]
          },
          "metadata": {},
          "output_type": "display_data"
        }
      ],
      "source": [
        "cifar = torchvision.datasets.CIFAR10(download=True, root='.')\n",
        "cifar = cifar.data.transpose((0, 3, 1 ,2)).mean(1, keepdims=True)\n",
        "# cifar = (cifar - cifar.mean((0, 2, 3), keepdims=True)) / (cifar.std((0, 2, 3), keepdims=True))\n",
        "plt.imshow(cifar[1, 0], cmap='gray')"
      ]
    },
    {
      "cell_type": "code",
      "execution_count": 3,
      "metadata": {},
      "outputs": [],
      "source": [
        "cifar_small = sk.transform.rescale(cifar, 0.5)\n",
        "cifar_mini = sk.transform.rescale(cifar, 0.25)"
      ]
    },
    {
      "cell_type": "code",
      "execution_count": 4,
      "metadata": {
        "colab": {
          "base_uri": "https://localhost:8080/",
          "height": 466
        },
        "id": "V-tJ18oMnZ4j",
        "outputId": "fe6ba73e-183d-4813-ec75-e609d9768ca7"
      },
      "outputs": [
        {
          "name": "stdout",
          "output_type": "stream",
          "text": [
            "(89400, 1, 16, 16)\n",
            "(89400, 5)\n",
            "[1. 0. 0. 0. 0.]\n"
          ]
        },
        {
          "data": {
            "image/png": "[encoded data removed]",
            "text/plain": [
              "<Figure size 640x480 with 1 Axes>"
            ]
          },
          "metadata": {},
          "output_type": "display_data"
        }
      ],
      "source": [
        "sprites = np.load('sprites.npy')\n",
        "sprites = np.transpose(sprites, (0, 3, 1, 2)).mean(axis=1, keepdims=True)\n",
        "sprite_labels = np.load('sprites_labels.npy')\n",
        "print(sprites.shape)\n",
        "print(sprite_labels.shape)\n",
        "plt.imshow(sprites[0, 0], cmap='gray')\n",
        "print(sprite_labels[0])"
      ]
    },
    {
      "cell_type": "code",
      "execution_count": null,
      "metadata": {
        "id": "Wg8uyOROQRaY"
      },
      "outputs": [],
      "source": [
        "class PatchEmbed(nn.Module):\n",
        "    def __init__(self, image_size=16, patch_size=2, in_chans=1, embed_dim=256):\n",
        "        super().__init__()\n",
        "        self.patch_size = patch_sizev\n",
        "        self.proj = nn.Conv2d(in_chans, embed_dim, kernel_size=patch_size, stride=patch_size)\n",
        "        self.grid_h = image_size // patch_size\n",
        "        self.grid_w = image_size // patch_size\n",
        "        self.h_embed = nn.Parameter(torch.randn(1, embed_dim, self.grid_h, 1))\n",
        "        self.w_embed = nn.Parameter(torch.randn(1, embed_dim, 1, self.grid_w))\n",
        "\n",
        "    def forward(self, x):\n",
        "        x = self.proj(x)  # [B, D, H/patch, W/patch]\n",
        "        x = x + self.h_embed + self.w_embed\n",
        "        x = x.flatten(2).transpose(1, 2)  # [B, num_patches, D]\n",
        "        return x"
      ]
    },
    {
      "cell_type": "code",
      "execution_count": 6,
      "metadata": {
        "id": "cZV0ZVTZQzoz"
      },
      "outputs": [],
      "source": [
        "class SimpleViT(nn.Module):\n",
        "    def __init__(self, image_size=16, patch_size=2, embed_dim=256, num_layers=4, nhead=4):\n",
        "        super().__init__()\n",
        "        self.patch_embed = PatchEmbed(image_size=image_size, embed_dim=embed_dim, patch_size=patch_size)\n",
        "        encoder = nn.TransformerEncoderLayer(d_model=embed_dim, nhead=nhead, batch_first=True)\n",
        "        self.transformer = nn.TransformerEncoder(encoder, num_layers=num_layers)\n",
        "\n",
        "    def forward(self, x):\n",
        "        B, T, C, H, W = x.shape\n",
        "        x = x.view(B * T, C, H, W)\n",
        "        patches = self.patch_embed(x)  # [B*T, P, D]\n",
        "        # patches = patches.view(B, T, -1, patches.shape[-1])  # [B, T, P, D]\n",
        "        # patches = patches.flatten(1, 2)  # [B, T*P, D]\n",
        "        embeddings = self.transformer(patches)[:, -1, :]\n",
        "        embeddings = embeddings.view(B, T, -1)\n",
        "        return embeddings\n",
        "\n",
        "class MiniResnet(nn.Module):\n",
        "    def __init__(self, image_size=16, embed_dim=256, num_layers=8):\n",
        "        super().__init__()\n",
        "        self.input_conv = nn.Conv2d(1, 32, 3, 1, 1)\n",
        "        self.convs = nn.ModuleList()\n",
        "        for _ in range(num_layers):\n",
        "            self.convs.append(nn.Conv2d(32, 32, 3, 1, 1))\n",
        "        self.output = nn.Linear(image_size**2 *32, embed_dim)\n",
        "    \n",
        "    def forward(self, x):\n",
        "        x = F.relu(self.input_conv(x))\n",
        "        for layer in self.convs:\n",
        "            x = F.relu(layer(x)) + x\n",
        "        x = x.flatten(1)\n",
        "        x = self.output(x)\n",
        "        return x\n"
      ]
    },
    {
      "cell_type": "code",
      "execution_count": 7,
      "metadata": {},
      "outputs": [],
      "source": [
        "class SimpleCNN(nn.Module):\n",
        "    def __init__(self, image_size=16, embed_dim=1, num_convs=1, num_channels=1, patch_size=2):\n",
        "        # Let's just do x convs followed by a single linear layer\n",
        "        super().__init__()\n",
        "        self.convs = nn.ModuleList()\n",
        "        for i in range(num_convs):\n",
        "            # if i == 0:\n",
        "            self.convs.append(nn.Conv2d(num_channels, num_channels, kernel_size=patch_size, stride=patch_size, bias=False))\n",
        "            # else:\n",
        "            #     self.convs.append(nn.Conv2d(num_channels, num_channels, kernel_size=3, padding=1, bias=False))\n",
        "        self.conv_size = num_channels * (image_size * image_size) // (patch_size * patch_size)\n",
        "        self.linear = nn.Linear(self.conv_size, embed_dim, bias=False)\n",
        "        self._initialize_weights()\n",
        "\n",
        "    def forward(self, x):\n",
        "        for conv in self.convs:\n",
        "            x = conv(x)#F.relu(conv(x))\n",
        "        x = x.flatten(1)\n",
        "        x = self.linear(x)\n",
        "        return x\n",
        "    \n",
        "    def _initialize_weights(self):\n",
        "        layers = [m for m in self.modules() if isinstance(m, (nn.Linear, nn.Conv2d))]\n",
        "        for i, m in enumerate(layers):\n",
        "            if isinstance(m, (nn.Conv2d, nn.Linear)):\n",
        "                if i < len(layers) - 1:\n",
        "                    nn.init.normal_(m.weight)\n",
        "                else:\n",
        "                    nn.init.normal_(m.weight, std=2/self.conv_size)\n",
        "\n",
        "class SimpleMLP(nn.Module):\n",
        "    def __init__(self, image_size=16, embed_dim=1, hidden_dim=100, num_hidden=0):\n",
        "        super().__init__()\n",
        "        self.input_size = image_size ** 2\n",
        "        self.hidden_dim = hidden_dim\n",
        "        self.layers = nn.ModuleList()\n",
        "        self.layers.append(nn.Linear(self.input_size, hidden_dim, bias=False))\n",
        "        for _ in range(num_hidden):\n",
        "            self.layers.append(nn.Linear(hidden_dim, hidden_dim, bias=False))\n",
        "        self.output_layer = nn.Linear(hidden_dim, embed_dim, bias=False)\n",
        "        self._initialize_weights()\n",
        "        \n",
        "    def forward(self, x):\n",
        "        x = x.flatten(1)\n",
        "        for layer in self.layers:\n",
        "            x = F.relu(layer(x))\n",
        "        return self.output_layer(x)\n",
        "        \n",
        "    def _initialize_weights(self):\n",
        "        layers = [m for m in self.modules() if isinstance(m, (nn.Linear, nn.Conv2d))]\n",
        "        for i, m in enumerate(layers):\n",
        "            if isinstance(m, (nn.Conv2d, nn.Linear)):\n",
        "                if i < len(layers) - 1:\n",
        "                    nn.init.normal_(m.weight)\n",
        "                else:\n",
        "                    nn.init.normal_(m.weight, std=2/self.hidden_dim)\n",
        "            "
      ]
    },
    {
      "cell_type": "code",
      "execution_count": 8,
      "metadata": {
        "id": "VEirYoYZQVAE"
      },
      "outputs": [],
      "source": [
        "class VisionICLTransformer(nn.Module):\n",
        "    def __init__(self, val_dim=1, embed_dim=256, num_heads=8, num_layers=12, vit_heads=2, vit_layers=8,\n",
        "                 image_size=16, patch_size=2, max_seq_len=128):\n",
        "        # max_seq_len corresponds to 2k, so k x_k samples and k f(x_k), and then one more for x_query\n",
        "        super().__init__()\n",
        "\n",
        "        self.grid_h = image_size // patch_size\n",
        "        self.grid_w = image_size // patch_size\n",
        "        self.num_patches = self.grid_h * self.grid_w\n",
        "\n",
        "        self.time_embed = nn.Parameter(torch.randn(1, max_seq_len * 2, embed_dim))\n",
        "\n",
        "        self.val_dim = val_dim\n",
        "        self.value_proj = nn.Linear(val_dim, embed_dim)\n",
        "\n",
        "        self.vit = SimpleViT(image_size, patch_size, embed_dim, vit_layers, vit_heads)\n",
        "        self.cnn = MiniResnet(image_size, embed_dim=embed_dim)\n",
        "        # decoder_layer = nn.TransformerDecoderLayer(d_model=embed_dim, nhead=num_heads, batch_first=True)\n",
        "        # self.transformer = nn.TransformerDecoder(decoder_layer, num_layers=num_layers)\n",
        "        config = GPT2Config(\n",
        "            n_positions=2 * max_seq_len,\n",
        "            n_embd=embed_dim,\n",
        "            n_layer=num_layers,\n",
        "            n_head=num_heads,\n",
        "            resid_pdrop=0.0,\n",
        "            embd_pdrop=0.0,\n",
        "            attn_pdrop=0.0,\n",
        "            use_cache=False,\n",
        "        )\n",
        "        self.transformer = GPT2Model(config)\n",
        "\n",
        "        self.fc_out = nn.Linear(embed_dim, val_dim)\n",
        "\n",
        "    def forward(self, images, values):\n",
        "        B, T, C, H, W = images.shape\n",
        "        B, T, _ = values.shape\n",
        "        images = images.reshape(-1, *images.shape[2:])\n",
        "        img_embeddings = self.cnn(images)#self.vit(images)\n",
        "        img_embeddings = img_embeddings.reshape(B, T, -1)\n",
        "        # img_embeddings = self.vit(images)\n",
        "\n",
        "        inds = torch.arange(T).to(device)\n",
        "\n",
        "        val_embeds = self.value_proj(values)\n",
        "\n",
        "        embeddings = self.interleave(img_embeddings, val_embeds)\n",
        "        # embeddings = embeddings + self.time_embed[:, :2 * T]\n",
        "\n",
        "        # mask = nn.Transformer.generate_square_subsequent_mask(2 * T).to(embeddings.device)\n",
        "        # memory = torch.zeros(B, 1, embeddings.shape[-1]).to(embeddings.device)\n",
        "        # x = self.transformer(tgt=embeddings, memory=memory, tgt_mask=mask) \n",
        "\n",
        "        # return self.fc_out(x[:, ::2])\n",
        "        x = self.transformer(inputs_embeds=embeddings).last_hidden_state\n",
        "        predictions = self.fc_out(x)\n",
        "\n",
        "        return predictions[:, ::2, 0][:, inds]\n",
        "    \n",
        "    def interleave(self, xs, ys):\n",
        "        B, T, D = xs.shape\n",
        "        stacked = torch.stack((xs, ys), dim=2)  # [B, T, 2, D]\n",
        "        interleaved = stacked.view(B, 2 * T, D)\n",
        "        return interleaved"
      ]
    },
    {
      "cell_type": "markdown",
      "metadata": {
        "id": "DxDplJ5qfRij"
      },
      "source": [
        "Actual Toy Problem"
      ]
    },
    {
      "cell_type": "code",
      "execution_count": 9,
      "metadata": {
        "id": "y5SUpgjFfQtx"
      },
      "outputs": [],
      "source": [
        "def sample_image_set(image_set, b, n, d=None):\n",
        "    indices = torch.randint(0, image_set.shape[0], (b * n,))\n",
        "    images = torch.tensor(image_set[indices].reshape(b, n, *image_set.shape[1:])).float().to(device)\n",
        "    shape = images.shape\n",
        "    images = (images - image_set.mean()) / (image_set.std() + 1e-8)\n",
        "    # images = images.reshape(b, n, 1, -1)\n",
        "    if d is not None:\n",
        "        images[:, :, :, d:] = 0\n",
        "        images[:, :, :, :, d:] = 0\n",
        "    # images = images.reshape(shape)\n",
        "    return images\n",
        "\n",
        "# def sample_sprites(b, n):\n",
        "#     indices = torch.randint(0, sprites.shape[0], (b, n))\n",
        "#     images = torch.tensor(sprites[indices]).float().to(device)\n",
        "#     return images\n",
        "\n",
        "# def sample_cifar(b, n, d):\n",
        "#     indices = torch.randint(0, cifar.shape[0], (b, n))\n",
        "#     images = torch.tensor(cifar[indices]).float().to(device)\n",
        "#     images[:, :, :, d:] = 0\n",
        "#     images[:, :, :, :, d:] = 0\n",
        "#     return images\n",
        "\n",
        "def sample_noise(b, n, d, d_max=16):\n",
        "    noise = torch.randn((b, n, 1, d_max, d_max))\n",
        "    noise[:, :, :, d:] = 0\n",
        "    noise[:, :, :, :, d:] = 0\n",
        "    return noise.to(device)\n",
        "\n",
        "def ensemble_predict(models, images):\n",
        "    ensemble_size = len(models)\n",
        "    batch_dim = images.shape[0]\n",
        "    step = batch_dim // ensemble_size\n",
        "    ind = 0\n",
        "    i = 0\n",
        "    predictions = []\n",
        "    while ind < batch_dim:\n",
        "        predictions.append(models[i](images[ind:min(batch_dim, ind+step)]))\n",
        "        ind += step\n",
        "        i += 1\n",
        "        \n",
        "    return torch.concat(predictions)\n",
        "\n",
        "def anneal_lr(optim, lr, update, num_updates, transition_step=1000):\n",
        "    update -= 1\n",
        "    if update <= transition_step:\n",
        "        new_lr = lr * (0.5 ** (update / transition_step))\n",
        "    else:\n",
        "        frac = 1 - (update - transition_step) / (num_updates - transition_step)\n",
        "        new_lr = max(0, 0.5 * lr * frac) # max probably unneccesary but better than having a negative\n",
        "    optim.param_groups[0][\"lr\"] = new_lr"
      ]
    },
    {
      "cell_type": "code",
      "execution_count": 10,
      "metadata": {},
      "outputs": [
        {
          "data": {
            "text/plain": [
              "<matplotlib.image.AxesImage at 0x7f068e323f10>"
            ]
          },
          "execution_count": 10,
          "metadata": {},
          "output_type": "execute_result"
        },
        {
          "data": {
            "image/png": "[encoded data removed]",
            "text/plain": [
              "<Figure size 640x480 with 1 Axes>"
            ]
          },
          "metadata": {},
          "output_type": "display_data"
        }
      ],
      "source": [
        "plt.imshow(to_numpy(sample_image_set(cifar_small, 1, 4, 32))[0, 0, 0], cmap='gray')"
      ]
    },
    {
      "cell_type": "code",
      "execution_count": 12,
      "metadata": {},
      "outputs": [
        {
          "name": "stdout",
          "output_type": "stream",
          "text": [
            "tensor([0.0331, 0.1322, 0.2975, 0.5289, 0.8264, 1.1901, 1.6198, 2.1157, 2.6777,\n",
            "        3.3058, 4.0000], device='cuda:1')\n"
          ]
        },
        {
          "ename": "KeyboardInterrupt",
          "evalue": "",
          "output_type": "error",
          "traceback": [
            "\u001b[0;31m---------------------------------------------------------------------------\u001b[0m",
            "\u001b[0;31mKeyboardInterrupt\u001b[0m                         Traceback (most recent call last)",
            "Cell \u001b[0;32mIn[12], line 46\u001b[0m\n\u001b[1;32m     44\u001b[0m losses\u001b[38;5;241m.\u001b[39mappend(loss\u001b[38;5;241m.\u001b[39mitem())\n\u001b[1;32m     45\u001b[0m optim\u001b[38;5;241m.\u001b[39mzero_grad()\n\u001b[0;32m---> 46\u001b[0m \u001b[43mloss\u001b[49m\u001b[38;5;241;43m.\u001b[39;49m\u001b[43mbackward\u001b[49m\u001b[43m(\u001b[49m\u001b[43m)\u001b[49m\n\u001b[1;32m     47\u001b[0m optim\u001b[38;5;241m.\u001b[39mstep()\n",
            "File \u001b[0;32m~/anaconda3/envs/cs182/lib/python3.10/site-packages/torch/_tensor.py:525\u001b[0m, in \u001b[0;36mTensor.backward\u001b[0;34m(self, gradient, retain_graph, create_graph, inputs)\u001b[0m\n\u001b[1;32m    515\u001b[0m \u001b[38;5;28;01mif\u001b[39;00m has_torch_function_unary(\u001b[38;5;28mself\u001b[39m):\n\u001b[1;32m    516\u001b[0m     \u001b[38;5;28;01mreturn\u001b[39;00m handle_torch_function(\n\u001b[1;32m    517\u001b[0m         Tensor\u001b[38;5;241m.\u001b[39mbackward,\n\u001b[1;32m    518\u001b[0m         (\u001b[38;5;28mself\u001b[39m,),\n\u001b[0;32m   (...)\u001b[0m\n\u001b[1;32m    523\u001b[0m         inputs\u001b[38;5;241m=\u001b[39minputs,\n\u001b[1;32m    524\u001b[0m     )\n\u001b[0;32m--> 525\u001b[0m \u001b[43mtorch\u001b[49m\u001b[38;5;241;43m.\u001b[39;49m\u001b[43mautograd\u001b[49m\u001b[38;5;241;43m.\u001b[39;49m\u001b[43mbackward\u001b[49m\u001b[43m(\u001b[49m\n\u001b[1;32m    526\u001b[0m \u001b[43m    \u001b[49m\u001b[38;5;28;43mself\u001b[39;49m\u001b[43m,\u001b[49m\u001b[43m \u001b[49m\u001b[43mgradient\u001b[49m\u001b[43m,\u001b[49m\u001b[43m \u001b[49m\u001b[43mretain_graph\u001b[49m\u001b[43m,\u001b[49m\u001b[43m \u001b[49m\u001b[43mcreate_graph\u001b[49m\u001b[43m,\u001b[49m\u001b[43m \u001b[49m\u001b[43minputs\u001b[49m\u001b[38;5;241;43m=\u001b[39;49m\u001b[43minputs\u001b[49m\n\u001b[1;32m    527\u001b[0m \u001b[43m\u001b[49m\u001b[43m)\u001b[49m\n",
            "File \u001b[0;32m~/anaconda3/envs/cs182/lib/python3.10/site-packages/torch/autograd/__init__.py:267\u001b[0m, in \u001b[0;36mbackward\u001b[0;34m(tensors, grad_tensors, retain_graph, create_graph, grad_variables, inputs)\u001b[0m\n\u001b[1;32m    262\u001b[0m     retain_graph \u001b[38;5;241m=\u001b[39m create_graph\n\u001b[1;32m    264\u001b[0m \u001b[38;5;66;03m# The reason we repeat the same comment below is that\u001b[39;00m\n\u001b[1;32m    265\u001b[0m \u001b[38;5;66;03m# some Python versions print out the first line of a multi-line function\u001b[39;00m\n\u001b[1;32m    266\u001b[0m \u001b[38;5;66;03m# calls in the traceback and some print out the last line\u001b[39;00m\n\u001b[0;32m--> 267\u001b[0m \u001b[43m_engine_run_backward\u001b[49m\u001b[43m(\u001b[49m\n\u001b[1;32m    268\u001b[0m \u001b[43m    \u001b[49m\u001b[43mtensors\u001b[49m\u001b[43m,\u001b[49m\n\u001b[1;32m    269\u001b[0m \u001b[43m    \u001b[49m\u001b[43mgrad_tensors_\u001b[49m\u001b[43m,\u001b[49m\n\u001b[1;32m    270\u001b[0m \u001b[43m    \u001b[49m\u001b[43mretain_graph\u001b[49m\u001b[43m,\u001b[49m\n\u001b[1;32m    271\u001b[0m \u001b[43m    \u001b[49m\u001b[43mcreate_graph\u001b[49m\u001b[43m,\u001b[49m\n\u001b[1;32m    272\u001b[0m \u001b[43m    \u001b[49m\u001b[43minputs\u001b[49m\u001b[43m,\u001b[49m\n\u001b[1;32m    273\u001b[0m \u001b[43m    \u001b[49m\u001b[43mallow_unreachable\u001b[49m\u001b[38;5;241;43m=\u001b[39;49m\u001b[38;5;28;43;01mTrue\u001b[39;49;00m\u001b[43m,\u001b[49m\n\u001b[1;32m    274\u001b[0m \u001b[43m    \u001b[49m\u001b[43maccumulate_grad\u001b[49m\u001b[38;5;241;43m=\u001b[39;49m\u001b[38;5;28;43;01mTrue\u001b[39;49;00m\u001b[43m,\u001b[49m\n\u001b[1;32m    275\u001b[0m \u001b[43m\u001b[49m\u001b[43m)\u001b[49m\n",
            "File \u001b[0;32m~/anaconda3/envs/cs182/lib/python3.10/site-packages/torch/autograd/graph.py:744\u001b[0m, in \u001b[0;36m_engine_run_backward\u001b[0;34m(t_outputs, *args, **kwargs)\u001b[0m\n\u001b[1;32m    742\u001b[0m     unregister_hooks \u001b[38;5;241m=\u001b[39m _register_logging_hooks_on_whole_graph(t_outputs)\n\u001b[1;32m    743\u001b[0m \u001b[38;5;28;01mtry\u001b[39;00m:\n\u001b[0;32m--> 744\u001b[0m     \u001b[38;5;28;01mreturn\u001b[39;00m \u001b[43mVariable\u001b[49m\u001b[38;5;241;43m.\u001b[39;49m\u001b[43m_execution_engine\u001b[49m\u001b[38;5;241;43m.\u001b[39;49m\u001b[43mrun_backward\u001b[49m\u001b[43m(\u001b[49m\u001b[43m  \u001b[49m\u001b[38;5;66;43;03m# Calls into the C++ engine to run the backward pass\u001b[39;49;00m\n\u001b[1;32m    745\u001b[0m \u001b[43m        \u001b[49m\u001b[43mt_outputs\u001b[49m\u001b[43m,\u001b[49m\u001b[43m \u001b[49m\u001b[38;5;241;43m*\u001b[39;49m\u001b[43margs\u001b[49m\u001b[43m,\u001b[49m\u001b[43m \u001b[49m\u001b[38;5;241;43m*\u001b[39;49m\u001b[38;5;241;43m*\u001b[39;49m\u001b[43mkwargs\u001b[49m\n\u001b[1;32m    746\u001b[0m \u001b[43m    \u001b[49m\u001b[43m)\u001b[49m  \u001b[38;5;66;03m# Calls into the C++ engine to run the backward pass\u001b[39;00m\n\u001b[1;32m    747\u001b[0m \u001b[38;5;28;01mfinally\u001b[39;00m:\n\u001b[1;32m    748\u001b[0m     \u001b[38;5;28;01mif\u001b[39;00m attach_logging_hooks:\n",
            "\u001b[0;31mKeyboardInterrupt\u001b[0m: "
          ]
        }
      ],
      "source": [
        "total_updates = 500000\n",
        "increase_after = 5000\n",
        "b = 64\n",
        "d = 2\n",
        "k = 5\n",
        "n = d * k + 1 # might need to lower this back to 64 for colab\n",
        "e = b\n",
        "lr = 1e-4\n",
        "image_size = 8\n",
        "stop_on = 0.01\n",
        "current_i = 0\n",
        "weighting = ((torch.arange(1, n+1) * 2 / n) ** 2).to(device)\n",
        "print(weighting)\n",
        "\n",
        "losses = []\n",
        "final_losses = []\n",
        "large_transformer = VisionICLTransformer(image_size=image_size, patch_size=2).to(device)\n",
        "optim = torch.optim.AdamW(large_transformer.parameters(), lr)\n",
        "for i in range(1, total_updates + 1):\n",
        "    # anneal_lr(optim, lr, i, total_updates, transition_step=20000)\n",
        "    if i % 100 == 0:\n",
        "        print(f'epoch: {i}, {np.mean(losses[-10:])}, {np.mean(final_losses[-10:])}, {f_xquery.norm(dim=-1).mean().item()}, {true_f_xquery.norm(dim=-1).mean().item()}')\n",
        "    if i - current_i == increase_after:\n",
        "        if d < image_size:\n",
        "            d += 1\n",
        "            n = d * k + 1\n",
        "            increase_after += 0\n",
        "            current_i = i\n",
        "            weighting = ((torch.arange(n) * 2 / n) ** 2).to(device)\n",
        "            print(f'increasing difficulty to d={d}, n={n}')\n",
        "        elif np.mean(final_losses[-10:]) < stop_on:\n",
        "            break\n",
        "    ws = torch.randn(b, 1, image_size ** 2).to(device)\n",
        "    images = sample_image_set(cifar_mini, b, n, d)\n",
        "    # images = sample_noise(b, n, d, image_size)\n",
        "    temp_images = images.reshape(b, n, image_size ** 2)\n",
        "    embeddings = (ws * temp_images).sum(-1, keepdim=True)\n",
        "    true_f_xquery= embeddings = embeddings.reshape(b, n, -1)\n",
        "    f_xquery = large_transformer(images, embeddings)\n",
        "    true_f_xquery = true_f_xquery.squeeze(-1)\n",
        "    loss = (weighting * (f_xquery - true_f_xquery) ** 2).sum(1).mean() # * weighting.view(1, -1)\n",
        "    final_loss = F.mse_loss(f_xquery[:, -1], true_f_xquery[:, -1])\n",
        "    final_losses.append(final_loss.item())\n",
        "    losses.append(loss.item())\n",
        "    optim.zero_grad()\n",
        "    loss.backward()\n",
        "    optim.step()"
      ]
    },
    {
      "cell_type": "code",
      "execution_count": 13,
      "metadata": {},
      "outputs": [
        {
          "name": "stdout",
          "output_type": "stream",
          "text": [
            "tensor([-0.4440,  0.3412, -0.4509, -0.0501,  0.5521,  0.0359,  0.4580,  0.0347,\n",
            "        -0.0128, -0.2074, -0.3354,  0.5232, -0.3011,  0.2012, -0.1074, -0.2124,\n",
            "         0.0773, -0.5532, -0.3868, -0.4103, -0.4052,  0.5176,  0.0381, -0.1620,\n",
            "        -0.4081,  0.0291,  0.1899, -0.3864,  0.1788,  0.2133, -0.1761, -0.3864,\n",
            "         0.1888, -0.2727, -0.2626, -0.1982,  0.1475, -0.0293,  0.2380,  0.0670,\n",
            "        -0.0897,  0.5249,  0.3656,  0.5475, -0.1682,  0.6625,  0.1360, -0.2339,\n",
            "         0.3601,  0.3759, -0.5666,  0.0419,  0.1925,  0.3547, -0.0963, -0.0550,\n",
            "        -0.5472,  0.6298,  0.1709,  0.1238,  0.1123, -0.0436, -0.0319, -0.0718],\n",
            "       device='cuda:1', grad_fn=<SelectBackward0>)\n",
            "tensor([-1.6269, -0.9739, -0.7822,  0.0570,  0.0331,  0.3136,  2.6752,  0.3158,\n",
            "        -0.8380,  0.3767, -0.5895, -1.2872,  0.3538,  0.5481, -0.0291,  0.8859,\n",
            "         0.9835,  0.2009, -0.4838, -2.1468, -1.3385, -0.0109,  0.5119,  0.0602,\n",
            "         0.9083, -0.9209,  0.8236, -0.8953, -0.0746, -0.0557,  0.0123,  0.9781,\n",
            "         0.1287,  0.6584,  1.2474, -0.0384,  0.0224,  1.8962,  0.0546, -0.8376,\n",
            "        -0.1886,  0.6727, -1.0021,  0.3794, -0.2171,  0.7776, -0.0691, -0.6327,\n",
            "        -0.9593,  1.2644, -4.7880,  0.3020, -0.1664,  0.0970, -2.5854,  0.0203,\n",
            "        -0.4931,  4.2839,  0.2686,  0.2246, -0.2975,  0.0065, -0.2290, -0.0405],\n",
            "       device='cuda:1')\n"
          ]
        }
      ],
      "source": [
        "ws = torch.randn(b, 1, image_size ** 2).to(device)\n",
        "images = sample_image_set(cifar_mini, b, n, d-1)\n",
        "temp_images = images.reshape(b, n, image_size ** 2)\n",
        "embeddings = (ws * temp_images).sum(-1, keepdim=True)\n",
        "true_f_xquery = embeddings = embeddings.reshape(b, n, -1)\n",
        "f_xquery = large_transformer(images, embeddings)\n",
        "true_f_xquery = true_f_xquery.squeeze(-1)\n",
        "F.mse_loss(f_xquery[:, -1], true_f_xquery[:, -1])\n",
        "print(f_xquery[:, -1])\n",
        "print(true_f_xquery[:, -1])"
      ]
    },
    {
      "cell_type": "code",
      "execution_count": null,
      "metadata": {},
      "outputs": [
        {
          "data": {
            "text/plain": [
              "VisionICLTransformer(\n",
              "  (value_proj): Linear(in_features=1, out_features=256, bias=True)\n",
              "  (vit): SimpleViT(\n",
              "    (patch_embed): PatchEmbed(\n",
              "      (proj): Conv2d(1, 256, kernel_size=(2, 2), stride=(2, 2))\n",
              "    )\n",
              "    (transformer): TransformerEncoder(\n",
              "      (layers): ModuleList(\n",
              "        (0-7): 8 x TransformerEncoderLayer(\n",
              "          (self_attn): MultiheadAttention(\n",
              "            (out_proj): NonDynamicallyQuantizableLinear(in_features=256, out_features=256, bias=True)\n",
              "          )\n",
              "          (linear1): Linear(in_features=256, out_features=2048, bias=True)\n",
              "          (dropout): Dropout(p=0.1, inplace=False)\n",
              "          (linear2): Linear(in_features=2048, out_features=256, bias=True)\n",
              "          (norm1): LayerNorm((256,), eps=1e-05, elementwise_affine=True)\n",
              "          (norm2): LayerNorm((256,), eps=1e-05, elementwise_affine=True)\n",
              "          (dropout1): Dropout(p=0.1, inplace=False)\n",
              "          (dropout2): Dropout(p=0.1, inplace=False)\n",
              "        )\n",
              "      )\n",
              "    )\n",
              "  )\n",
              "  (cnn): MiniResnet(\n",
              "    (input_conv): Conv2d(1, 32, kernel_size=(3, 3), stride=(1, 1), padding=(1, 1))\n",
              "    (convs): ModuleList(\n",
              "      (0-7): 8 x Conv2d(32, 32, kernel_size=(3, 3), stride=(1, 1), padding=(1, 1))\n",
              "    )\n",
              "    (output): Linear(in_features=2048, out_features=256, bias=True)\n",
              "  )\n",
              "  (transformer): GPT2Model(\n",
              "    (wte): Embedding(50257, 256)\n",
              "    (wpe): Embedding(256, 256)\n",
              "    (drop): Dropout(p=0.0, inplace=False)\n",
              "    (h): ModuleList(\n",
              "      (0-11): 12 x GPT2Block(\n",
              "        (ln_1): LayerNorm((256,), eps=1e-05, elementwise_affine=True)\n",
              "        (attn): GPT2Attention(\n",
              "          (c_attn): Conv1D(nf=768, nx=256)\n",
              "          (c_proj): Conv1D(nf=256, nx=256)\n",
              "          (attn_dropout): Dropout(p=0.0, inplace=False)\n",
              "          (resid_dropout): Dropout(p=0.0, inplace=False)\n",
              "        )\n",
              "        (ln_2): LayerNorm((256,), eps=1e-05, elementwise_affine=True)\n",
              "        (mlp): GPT2MLP(\n",
              "          (c_fc): Conv1D(nf=1024, nx=256)\n",
              "          (c_proj): Conv1D(nf=256, nx=1024)\n",
              "          (act): NewGELUActivation()\n",
              "          (dropout): Dropout(p=0.0, inplace=False)\n",
              "        )\n",
              "      )\n",
              "    )\n",
              "    (ln_f): LayerNorm((256,), eps=1e-05, elementwise_affine=True)\n",
              "  )\n",
              "  (fc_out): Linear(in_features=256, out_features=1, bias=True)\n",
              ")"
            ]
          },
          "execution_count": 17,
          "metadata": {},
          "output_type": "execute_result"
        }
      ],
      "source": [
        "# torch.save(large_transformer.state_dict(), 'exp1_model.pt')\n",
        "# large_transformer.load_state_dict(torch.load('exp1_model.pt'))\n",
        "# torch.save(large_transformer, 'exp1_model.pt')\n",
        "torch.load('exp1_model.pt')"
      ]
    },
    {
      "cell_type": "code",
      "execution_count": 26,
      "metadata": {},
      "outputs": [
        {
          "name": "stdout",
          "output_type": "stream",
          "text": [
            "tensor([-0.3581,  0.5875, -2.0890, -1.4049, -1.4762, -0.0346, -0.5366, -0.1131,\n",
            "        -2.2362, -1.5963,  2.5401,  0.2696, -3.5906, -2.0225,  3.3493, -0.4579,\n",
            "         2.2719, -0.8845,  0.2319,  0.2134,  0.9155,  1.8694, -0.3811, -1.9469,\n",
            "        -1.4334,  0.1460,  1.6318, -0.6167, -1.9379, -3.0670,  1.0725, -0.6909,\n",
            "        -0.7511,  1.0843, -2.2141,  1.7530, -2.4708, -0.3499, -3.3296, -2.2990,\n",
            "        -0.7860,  1.3696, -1.2662, -1.7579, -1.3738, -2.3346, -1.1891, -1.3057,\n",
            "         0.4378, -0.0985,  0.7807,  0.4576, -1.2629, -0.3323,  0.2640, -1.4381,\n",
            "         0.5968,  1.0250, -1.8259, -1.4563, -0.0580,  0.5197, -0.0937,  1.0805],\n",
            "       device='cuda:1', grad_fn=<SelectBackward0>)\n",
            "tensor([-0.2463,  0.8264, -2.1985, -1.9232, -1.6175,  1.0876, -0.1205, -0.4549,\n",
            "        -2.7519, -1.7497,  2.0734,  1.2507, -3.6964, -1.9268,  3.5736, -0.8890,\n",
            "         2.1190,  0.5423,  0.3158,  0.5288,  1.0654,  1.8781, -0.4548, -1.7998,\n",
            "        -1.6169, -0.0794,  2.7687, -1.2278, -1.3881, -3.0373,  0.2964, -1.2002,\n",
            "        -0.6129,  0.6559, -1.8971,  1.4908, -2.7358,  0.0565, -2.3384, -2.5994,\n",
            "        -1.2624,  1.5659, -1.4257, -2.8164, -1.2157, -1.8510, -1.2870, -1.2095,\n",
            "         1.5060, -0.1833,  1.0445,  0.0822, -1.5650, -0.4666, -0.3667, -1.7646,\n",
            "         0.3831,  1.9645, -1.6823, -0.8497,  0.1194,  0.6736, -0.8711,  0.8227],\n",
            "       device='cuda:1', grad_fn=<SelectBackward0>)\n"
          ]
        }
      ],
      "source": [
        "images = sample_image_set(cifar_mini, b, n, d)\n",
        "testcnn = SimpleCNN(image_size).to(device)\n",
        "embeddings = testcnn(images.reshape(b * n, 1, image_size, image_size))\n",
        "true_f_xquery = embeddings = embeddings.reshape(b, n, -1)\n",
        "f_xquery = large_transformer(images, embeddings)\n",
        "true_f_xquery = true_f_xquery.squeeze(-1)\n",
        "F.mse_loss(f_xquery[:, -1], true_f_xquery[:, -1])\n",
        "print(f_xquery[:, -1])\n",
        "print(true_f_xquery[:, -1])"
      ]
    },
    {
      "cell_type": "code",
      "execution_count": 24,
      "metadata": {
        "id": "yeFOKRnskFn8"
      },
      "outputs": [
        {
          "data": {
            "image/png": "[encoded data removed]",
            "text/plain": [
              "<Figure size 640x480 with 1 Axes>"
            ]
          },
          "metadata": {},
          "output_type": "display_data"
        },
        {
          "data": {
            "image/png": "[encoded data removed]",
            "text/plain": [
              "<Figure size 640x480 with 1 Axes>"
            ]
          },
          "metadata": {},
          "output_type": "display_data"
        }
      ],
      "source": [
        "plt.plot(losses)\n",
        "plt.xlabel('epoch')\n",
        "plt.ylabel('loss')\n",
        "plt.savefig('exp1_loss.png')\n",
        "plt.show()\n",
        "plt.plot(final_losses)\n",
        "plt.xlabel('epoch')\n",
        "plt.ylabel('query loss')\n",
        "plt.savefig('exp1_query_loss.png')"
      ]
    },
    {
      "cell_type": "code",
      "execution_count": null,
      "metadata": {
        "id": "Sxgx0BahkHGH"
      },
      "outputs": [],
      "source": []
    },
    {
      "cell_type": "code",
      "execution_count": null,
      "metadata": {
        "id": "NRg6e60ylG-i"
      },
      "outputs": [],
      "source": []
    }
  ],
  "metadata": {
    "accelerator": "GPU",
    "colab": {
      "gpuType": "T4",
      "provenance": []
    },
    "kernelspec": {
      "display_name": "cs182",
      "language": "python",
      "name": "python3"
    },
    "language_info": {
      "codemirror_mode": {
        "name": "ipython",
        "version": 3
      },
      "file_extension": ".py",
      "mimetype": "text/x-python",
      "name": "python",
      "nbconvert_exporter": "python",
      "pygments_lexer": "ipython3",
      "version": "3.10.16"
    }
  },
  "nbformat": 4,
  "nbformat_minor": 0
}
